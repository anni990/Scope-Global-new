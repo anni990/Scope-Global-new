{
 "cells": [
  {
   "cell_type": "markdown",
   "metadata": {
    "id": "SeXvLc-1BW5y",
    "papermill": {
     "duration": 0.030052,
     "end_time": "2020-11-23T18:37:01.833808",
     "exception": false,
     "start_time": "2020-11-23T18:37:01.803756",
     "status": "completed"
    },
    "tags": []
   },
   "source": [
    "# Simple Linear Regression "
   ]
  },
  {
   "cell_type": "markdown",
   "metadata": {
    "id": "JUPGS__xBW5y",
    "papermill": {
     "duration": 0.029979,
     "end_time": "2020-11-23T18:37:01.894239",
     "exception": false,
     "start_time": "2020-11-23T18:37:01.864260",
     "status": "completed"
    },
    "tags": []
   },
   "source": [
    "`Simple Linear Regression` is a statistical method used to model the relationship between a dependent variable (Y) and a single independent variable (X).      \n",
    "It assumes that the relationship between the two variables is linear, meaning that changes in the independent variable lead to proportional changes in the dependent variable.\n",
    "\n",
    "### Assumptions of Linear Regression\n",
    "- Linearity – The relationship between X and Y is linear.\n",
    "- Independence – The observations are independent of each other.\n",
    "- Homoscedasticity – The variance of residuals (errors) is constant across all values of X.\n",
    "- Normality – The residuals follow a normal distribution."
   ]
  },
  {
   "cell_type": "markdown",
   "metadata": {
    "id": "5Hxz_OnuBW5y",
    "papermill": {
     "duration": 0.030799,
     "end_time": "2020-11-23T18:37:02.022244",
     "exception": false,
     "start_time": "2020-11-23T18:37:01.991445",
     "status": "completed"
    },
    "tags": []
   },
   "source": [
    "Step by Step:\n",
    "\n",
    "1. Importing neccesary libraries."
   ]
  },
  {
   "cell_type": "code",
   "execution_count": 1,
   "metadata": {
    "execution": {
     "iopub.execute_input": "2020-11-23T18:37:02.089354Z",
     "iopub.status.busy": "2020-11-23T18:37:02.088248Z",
     "iopub.status.idle": "2020-11-23T18:37:02.091721Z",
     "shell.execute_reply": "2020-11-23T18:37:02.091060Z"
    },
    "id": "4YmE8-RiBW5y",
    "papermill": {
     "duration": 0.038672,
     "end_time": "2020-11-23T18:37:02.091841",
     "exception": false,
     "start_time": "2020-11-23T18:37:02.053169",
     "status": "completed"
    },
    "tags": []
   },
   "outputs": [],
   "source": [
    "import pandas as pd\n",
    "import matplotlib.pyplot as plt\n",
    "import seaborn as sns"
   ]
  },
  {
   "cell_type": "markdown",
   "metadata": {},
   "source": [
    "2. Loading the dataset"
   ]
  },
  {
   "cell_type": "code",
   "execution_count": 22,
   "metadata": {},
   "outputs": [],
   "source": [
    "df = pd.read_csv(\"Datasets/student-performance.csv\")"
   ]
  },
  {
   "cell_type": "code",
   "execution_count": 3,
   "metadata": {},
   "outputs": [
    {
     "data": {
      "text/html": [
       "<div>\n",
       "<style scoped>\n",
       "    .dataframe tbody tr th:only-of-type {\n",
       "        vertical-align: middle;\n",
       "    }\n",
       "\n",
       "    .dataframe tbody tr th {\n",
       "        vertical-align: top;\n",
       "    }\n",
       "\n",
       "    .dataframe thead th {\n",
       "        text-align: right;\n",
       "    }\n",
       "</style>\n",
       "<table border=\"1\" class=\"dataframe\">\n",
       "  <thead>\n",
       "    <tr style=\"text-align: right;\">\n",
       "      <th></th>\n",
       "      <th>gender</th>\n",
       "      <th>race/ethnicity</th>\n",
       "      <th>parental level of education</th>\n",
       "      <th>lunch</th>\n",
       "      <th>test preparation course</th>\n",
       "      <th>math score</th>\n",
       "      <th>reading score</th>\n",
       "      <th>writing score</th>\n",
       "    </tr>\n",
       "  </thead>\n",
       "  <tbody>\n",
       "    <tr>\n",
       "      <th>0</th>\n",
       "      <td>female</td>\n",
       "      <td>group B</td>\n",
       "      <td>bachelor's degree</td>\n",
       "      <td>standard</td>\n",
       "      <td>none</td>\n",
       "      <td>72.518868</td>\n",
       "      <td>72.341163</td>\n",
       "      <td>74.604843</td>\n",
       "    </tr>\n",
       "    <tr>\n",
       "      <th>1</th>\n",
       "      <td>female</td>\n",
       "      <td>group C</td>\n",
       "      <td>some college</td>\n",
       "      <td>standard</td>\n",
       "      <td>completed</td>\n",
       "      <td>69.372786</td>\n",
       "      <td>90.693512</td>\n",
       "      <td>88.434536</td>\n",
       "    </tr>\n",
       "    <tr>\n",
       "      <th>2</th>\n",
       "      <td>female</td>\n",
       "      <td>group B</td>\n",
       "      <td>master's degree</td>\n",
       "      <td>standard</td>\n",
       "      <td>none</td>\n",
       "      <td>90.747297</td>\n",
       "      <td>95.972689</td>\n",
       "      <td>93.364383</td>\n",
       "    </tr>\n",
       "  </tbody>\n",
       "</table>\n",
       "</div>"
      ],
      "text/plain": [
       "   gender race/ethnicity parental level of education     lunch  \\\n",
       "0  female        group B           bachelor's degree  standard   \n",
       "1  female        group C                some college  standard   \n",
       "2  female        group B             master's degree  standard   \n",
       "\n",
       "  test preparation course  math score  reading score  writing score  \n",
       "0                    none   72.518868      72.341163      74.604843  \n",
       "1               completed   69.372786      90.693512      88.434536  \n",
       "2                    none   90.747297      95.972689      93.364383  "
      ]
     },
     "execution_count": 3,
     "metadata": {},
     "output_type": "execute_result"
    }
   ],
   "source": [
    "df.head(3)"
   ]
  },
  {
   "cell_type": "markdown",
   "metadata": {},
   "source": [
    "### For Simple Linear Regression:\n",
    "\n",
    "- Let's take reading score as independent variable (X) and writing score as dependent variable (Y)."
   ]
  },
  {
   "cell_type": "code",
   "execution_count": 23,
   "metadata": {},
   "outputs": [],
   "source": [
    "new_df = df.drop(columns=['gender','race/ethnicity','parental level of education','lunch','test preparation course','math score'])"
   ]
  },
  {
   "cell_type": "markdown",
   "metadata": {},
   "source": [
    "New DataFrame which contains reading score and writing score of students."
   ]
  },
  {
   "cell_type": "code",
   "execution_count": 24,
   "metadata": {},
   "outputs": [
    {
     "data": {
      "text/html": [
       "<div>\n",
       "<style scoped>\n",
       "    .dataframe tbody tr th:only-of-type {\n",
       "        vertical-align: middle;\n",
       "    }\n",
       "\n",
       "    .dataframe tbody tr th {\n",
       "        vertical-align: top;\n",
       "    }\n",
       "\n",
       "    .dataframe thead th {\n",
       "        text-align: right;\n",
       "    }\n",
       "</style>\n",
       "<table border=\"1\" class=\"dataframe\">\n",
       "  <thead>\n",
       "    <tr style=\"text-align: right;\">\n",
       "      <th></th>\n",
       "      <th>reading score</th>\n",
       "      <th>writing score</th>\n",
       "    </tr>\n",
       "  </thead>\n",
       "  <tbody>\n",
       "    <tr>\n",
       "      <th>0</th>\n",
       "      <td>72.341163</td>\n",
       "      <td>74.604843</td>\n",
       "    </tr>\n",
       "    <tr>\n",
       "      <th>1</th>\n",
       "      <td>90.693512</td>\n",
       "      <td>88.434536</td>\n",
       "    </tr>\n",
       "    <tr>\n",
       "      <th>2</th>\n",
       "      <td>95.972689</td>\n",
       "      <td>93.364383</td>\n",
       "    </tr>\n",
       "    <tr>\n",
       "      <th>3</th>\n",
       "      <td>57.336038</td>\n",
       "      <td>44.197319</td>\n",
       "    </tr>\n",
       "    <tr>\n",
       "      <th>4</th>\n",
       "      <td>78.920104</td>\n",
       "      <td>75.317157</td>\n",
       "    </tr>\n",
       "    <tr>\n",
       "      <th>...</th>\n",
       "      <td>...</td>\n",
       "      <td>...</td>\n",
       "    </tr>\n",
       "    <tr>\n",
       "      <th>995</th>\n",
       "      <td>99.461313</td>\n",
       "      <td>95.695893</td>\n",
       "    </tr>\n",
       "    <tr>\n",
       "      <th>996</th>\n",
       "      <td>55.106847</td>\n",
       "      <td>55.988351</td>\n",
       "    </tr>\n",
       "    <tr>\n",
       "      <th>997</th>\n",
       "      <td>71.709248</td>\n",
       "      <td>65.408511</td>\n",
       "    </tr>\n",
       "    <tr>\n",
       "      <th>998</th>\n",
       "      <td>78.607313</td>\n",
       "      <td>77.960825</td>\n",
       "    </tr>\n",
       "    <tr>\n",
       "      <th>999</th>\n",
       "      <td>86.914925</td>\n",
       "      <td>86.684998</td>\n",
       "    </tr>\n",
       "  </tbody>\n",
       "</table>\n",
       "<p>1000 rows × 2 columns</p>\n",
       "</div>"
      ],
      "text/plain": [
       "     reading score  writing score\n",
       "0        72.341163      74.604843\n",
       "1        90.693512      88.434536\n",
       "2        95.972689      93.364383\n",
       "3        57.336038      44.197319\n",
       "4        78.920104      75.317157\n",
       "..             ...            ...\n",
       "995      99.461313      95.695893\n",
       "996      55.106847      55.988351\n",
       "997      71.709248      65.408511\n",
       "998      78.607313      77.960825\n",
       "999      86.914925      86.684998\n",
       "\n",
       "[1000 rows x 2 columns]"
      ]
     },
     "execution_count": 24,
     "metadata": {},
     "output_type": "execute_result"
    }
   ],
   "source": [
    "new_df"
   ]
  },
  {
   "cell_type": "markdown",
   "metadata": {
    "id": "9ZFSxwHPBW5z",
    "papermill": {
     "duration": 0.030352,
     "end_time": "2020-11-23T18:37:02.227928",
     "exception": false,
     "start_time": "2020-11-23T18:37:02.197576",
     "status": "completed"
    },
    "tags": []
   },
   "source": [
    "Now, let's check the structure of the students dataset."
   ]
  },
  {
   "cell_type": "code",
   "execution_count": 6,
   "metadata": {
    "execution": {
     "iopub.execute_input": "2020-11-23T18:37:02.471046Z",
     "iopub.status.busy": "2020-11-23T18:37:02.470138Z",
     "iopub.status.idle": "2020-11-23T18:37:02.473682Z",
     "shell.execute_reply": "2020-11-23T18:37:02.474278Z"
    },
    "id": "HQDqzhdKBW51",
    "outputId": "1cb2a23e-8963-4629-b415-8fa68c5c383b",
    "papermill": {
     "duration": 0.049095,
     "end_time": "2020-11-23T18:37:02.474493",
     "exception": false,
     "start_time": "2020-11-23T18:37:02.425398",
     "status": "completed"
    },
    "tags": []
   },
   "outputs": [
    {
     "name": "stdout",
     "output_type": "stream",
     "text": [
      "<class 'pandas.core.frame.DataFrame'>\n",
      "RangeIndex: 1000 entries, 0 to 999\n",
      "Data columns (total 2 columns):\n",
      " #   Column         Non-Null Count  Dtype  \n",
      "---  ------         --------------  -----  \n",
      " 0   reading score  1000 non-null   float64\n",
      " 1   writing score  1000 non-null   float64\n",
      "dtypes: float64(2)\n",
      "memory usage: 15.8 KB\n"
     ]
    }
   ],
   "source": [
    "# Let's check the columns\n",
    "new_df.info()"
   ]
  },
  {
   "cell_type": "code",
   "execution_count": 7,
   "metadata": {
    "execution": {
     "iopub.execute_input": "2020-11-23T18:37:02.546376Z",
     "iopub.status.busy": "2020-11-23T18:37:02.545284Z",
     "iopub.status.idle": "2020-11-23T18:37:02.548798Z",
     "shell.execute_reply": "2020-11-23T18:37:02.549364Z"
    },
    "id": "1fOGVz61BW51",
    "outputId": "81567bb2-0c1b-480c-9a4c-9f1d70c012e0",
    "papermill": {
     "duration": 0.041629,
     "end_time": "2020-11-23T18:37:02.549519",
     "exception": false,
     "start_time": "2020-11-23T18:37:02.507890",
     "status": "completed"
    },
    "tags": []
   },
   "outputs": [
    {
     "data": {
      "text/plain": [
       "(1000, 2)"
      ]
     },
     "execution_count": 7,
     "metadata": {},
     "output_type": "execute_result"
    }
   ],
   "source": [
    "# Check the shape of the DataFrame (rows, columns)\n",
    "new_df.shape"
   ]
  },
  {
   "cell_type": "code",
   "execution_count": 8,
   "metadata": {
    "execution": {
     "iopub.execute_input": "2020-11-23T18:37:02.624145Z",
     "iopub.status.busy": "2020-11-23T18:37:02.623443Z",
     "iopub.status.idle": "2020-11-23T18:37:02.638999Z",
     "shell.execute_reply": "2020-11-23T18:37:02.638250Z"
    },
    "id": "VO4GoVyfBW51",
    "outputId": "29ea1da8-11c6-4cf1-9e1f-8cb9298afa92",
    "papermill": {
     "duration": 0.056228,
     "end_time": "2020-11-23T18:37:02.639121",
     "exception": false,
     "start_time": "2020-11-23T18:37:02.582893",
     "status": "completed"
    },
    "tags": []
   },
   "outputs": [
    {
     "data": {
      "text/html": [
       "<div>\n",
       "<style scoped>\n",
       "    .dataframe tbody tr th:only-of-type {\n",
       "        vertical-align: middle;\n",
       "    }\n",
       "\n",
       "    .dataframe tbody tr th {\n",
       "        vertical-align: top;\n",
       "    }\n",
       "\n",
       "    .dataframe thead th {\n",
       "        text-align: right;\n",
       "    }\n",
       "</style>\n",
       "<table border=\"1\" class=\"dataframe\">\n",
       "  <thead>\n",
       "    <tr style=\"text-align: right;\">\n",
       "      <th></th>\n",
       "      <th>reading score</th>\n",
       "      <th>writing score</th>\n",
       "    </tr>\n",
       "  </thead>\n",
       "  <tbody>\n",
       "    <tr>\n",
       "      <th>count</th>\n",
       "      <td>1000.000000</td>\n",
       "      <td>1000.000000</td>\n",
       "    </tr>\n",
       "    <tr>\n",
       "      <th>mean</th>\n",
       "      <td>69.673433</td>\n",
       "      <td>68.565749</td>\n",
       "    </tr>\n",
       "    <tr>\n",
       "      <th>std</th>\n",
       "      <td>14.623925</td>\n",
       "      <td>15.208336</td>\n",
       "    </tr>\n",
       "    <tr>\n",
       "      <th>min</th>\n",
       "      <td>17.047755</td>\n",
       "      <td>10.846358</td>\n",
       "    </tr>\n",
       "    <tr>\n",
       "      <th>25%</th>\n",
       "      <td>59.637510</td>\n",
       "      <td>58.089913</td>\n",
       "    </tr>\n",
       "    <tr>\n",
       "      <th>50%</th>\n",
       "      <td>70.476326</td>\n",
       "      <td>69.497129</td>\n",
       "    </tr>\n",
       "    <tr>\n",
       "      <th>75%</th>\n",
       "      <td>79.890498</td>\n",
       "      <td>79.423098</td>\n",
       "    </tr>\n",
       "    <tr>\n",
       "      <th>max</th>\n",
       "      <td>100.975359</td>\n",
       "      <td>100.729562</td>\n",
       "    </tr>\n",
       "  </tbody>\n",
       "</table>\n",
       "</div>"
      ],
      "text/plain": [
       "       reading score  writing score\n",
       "count    1000.000000    1000.000000\n",
       "mean       69.673433      68.565749\n",
       "std        14.623925      15.208336\n",
       "min        17.047755      10.846358\n",
       "25%        59.637510      58.089913\n",
       "50%        70.476326      69.497129\n",
       "75%        79.890498      79.423098\n",
       "max       100.975359     100.729562"
      ]
     },
     "execution_count": 8,
     "metadata": {},
     "output_type": "execute_result"
    }
   ],
   "source": [
    "# Look at some statistical information about the dataframe.\n",
    "new_df.describe()"
   ]
  },
  {
   "cell_type": "markdown",
   "metadata": {
    "id": "4tkuFialBW52",
    "papermill": {
     "duration": 0.034134,
     "end_time": "2020-11-23T18:37:02.708167",
     "exception": false,
     "start_time": "2020-11-23T18:37:02.674033",
     "status": "completed"
    },
    "tags": []
   },
   "source": [
    "## Visualising Data Using seaborn scatter plot."
   ]
  },
  {
   "cell_type": "code",
   "execution_count": 9,
   "metadata": {
    "execution": {
     "iopub.execute_input": "2020-11-23T18:37:02.782408Z",
     "iopub.status.busy": "2020-11-23T18:37:02.781684Z",
     "iopub.status.idle": "2020-11-23T18:37:03.071864Z",
     "shell.execute_reply": "2020-11-23T18:37:03.071234Z"
    },
    "id": "3mEiKmvYCk8S",
    "outputId": "0fd94a12-8a44-4c99-fe22-13b786d02b61",
    "papermill": {
     "duration": 0.329212,
     "end_time": "2020-11-23T18:37:03.071980",
     "exception": false,
     "start_time": "2020-11-23T18:37:02.742768",
     "status": "completed"
    },
    "tags": []
   },
   "outputs": [
    {
     "data": {
      "image/png": "[encoded data removed]",
      "text/plain": [
       "<Figure size 640x480 with 1 Axes>"
      ]
     },
     "metadata": {},
     "output_type": "display_data"
    }
   ],
   "source": [
    "# Visualise the relationship between the reading score and writing score using scatterplots\n",
    "\n",
    "sns.scatterplot(data=df,x='reading score',y='writing score')\n",
    "plt.show()"
   ]
  },
  {
   "cell_type": "markdown",
   "metadata": {
    "id": "54eMqRWoBW52",
    "papermill": {
     "duration": 0.035616,
     "end_time": "2020-11-23T18:37:03.143525",
     "exception": false,
     "start_time": "2020-11-23T18:37:03.107909",
     "status": "completed"
    },
    "tags": []
   },
   "source": [
    "# Perfroming Simple Linear Regression"
   ]
  },
  {
   "cell_type": "markdown",
   "metadata": {
    "id": "R8O25fC6BW52",
    "papermill": {
     "duration": 0.035901,
     "end_time": "2020-11-23T18:37:03.215830",
     "exception": false,
     "start_time": "2020-11-23T18:37:03.179929",
     "status": "completed"
    },
    "tags": []
   },
   "source": [
    "<img src=\"images/linear.png\" width='650px'>"
   ]
  },
  {
   "cell_type": "markdown",
   "metadata": {},
   "source": [
    "# To Calculate slope and intercept:\n",
    "\n",
    "<img src=\"images/ols.png\" width='700px'>"
   ]
  },
  {
   "cell_type": "markdown",
   "metadata": {
    "id": "GaxpcxRABW52",
    "papermill": {
     "duration": 0.035611,
     "end_time": "2020-11-23T18:37:03.358264",
     "exception": false,
     "start_time": "2020-11-23T18:37:03.322653",
     "status": "completed"
    },
    "tags": []
   },
   "source": [
    "## Dividing independent and dependent variable:\n",
    "\n",
    "-  The scikit-learn library expects X (feature variable) and y (response variable) to be NumPy arrays.\n",
    "-  However, X can be a dataframe as Pandas is built over NumPy."
   ]
  },
  {
   "cell_type": "code",
   "execution_count": 25,
   "metadata": {},
   "outputs": [],
   "source": [
    "X = new_df.iloc[:,0]\n",
    "y = new_df.iloc[:,-1]"
   ]
  },
  {
   "cell_type": "markdown",
   "metadata": {
    "id": "fRshsy8OBW52",
    "papermill": {
     "duration": 0.0426,
     "end_time": "2020-11-23T18:37:03.609023",
     "exception": false,
     "start_time": "2020-11-23T18:37:03.566423",
     "status": "completed"
    },
    "tags": []
   },
   "source": [
    "## Splitting Data into Training and Testing Sets"
   ]
  },
  {
   "cell_type": "code",
   "execution_count": 26,
   "metadata": {
    "execution": {
     "iopub.execute_input": "2020-11-23T18:37:03.692697Z",
     "iopub.status.busy": "2020-11-23T18:37:03.691845Z",
     "iopub.status.idle": "2020-11-23T18:37:04.473918Z",
     "shell.execute_reply": "2020-11-23T18:37:04.473125Z"
    },
    "id": "OD84Ss_hBW52",
    "papermill": {
     "duration": 0.827784,
     "end_time": "2020-11-23T18:37:04.474041",
     "exception": false,
     "start_time": "2020-11-23T18:37:03.646257",
     "status": "completed"
    },
    "tags": []
   },
   "outputs": [],
   "source": [
    "from sklearn.model_selection import train_test_split\n",
    "X_train, X_test, y_train, y_test = train_test_split(X, y, test_size=0.3 , random_state=0)"
   ]
  },
  {
   "cell_type": "markdown",
   "metadata": {},
   "source": [
    "`random_state` is a parameter in train_test_split that controls the random number generator used to shuffle the data before splitting it. In other words, it ensures that the same randomization is used each time you run the code, resulting in the same splits of the data."
   ]
  },
  {
   "cell_type": "code",
   "execution_count": 27,
   "metadata": {
    "execution": {
     "iopub.execute_input": "2020-11-23T18:37:04.906888Z",
     "iopub.status.busy": "2020-11-23T18:37:04.906149Z",
     "iopub.status.idle": "2020-11-23T18:37:04.910324Z",
     "shell.execute_reply": "2020-11-23T18:37:04.910861Z"
    },
    "id": "P84R5ARrBW52",
    "outputId": "ef70bde7-5c3e-4f2e-f84a-ae1e031feb91",
    "papermill": {
     "duration": 0.049862,
     "end_time": "2020-11-23T18:37:04.911015",
     "exception": false,
     "start_time": "2020-11-23T18:37:04.861153",
     "status": "completed"
    },
    "tags": []
   },
   "outputs": [
    {
     "name": "stdout",
     "output_type": "stream",
     "text": [
      "(700,)\n",
      "(700,)\n",
      "(300,)\n",
      "(300,)\n"
     ]
    }
   ],
   "source": [
    "print(X_train.shape)\n",
    "print(y_train.shape)\n",
    "print(X_test.shape)\n",
    "print(y_test.shape)"
   ]
  },
  {
   "cell_type": "markdown",
   "metadata": {
    "id": "EdeY_F9xBW52",
    "papermill": {
     "duration": 0.0401,
     "end_time": "2020-11-23T18:37:04.993272",
     "exception": false,
     "start_time": "2020-11-23T18:37:04.953172",
     "status": "completed"
    },
    "tags": []
   },
   "source": [
    "## Performing Linear Regression"
   ]
  },
  {
   "cell_type": "code",
   "execution_count": 28,
   "metadata": {
    "execution": {
     "iopub.execute_input": "2020-11-23T18:37:05.079822Z",
     "iopub.status.busy": "2020-11-23T18:37:05.079072Z",
     "iopub.status.idle": "2020-11-23T18:37:05.179404Z",
     "shell.execute_reply": "2020-11-23T18:37:05.179980Z"
    },
    "id": "qL6yPFpABW52",
    "outputId": "fe24ad41-cfc8-4bb0-d11d-8c4b4eb9c6aa",
    "papermill": {
     "duration": 0.146015,
     "end_time": "2020-11-23T18:37:05.180148",
     "exception": false,
     "start_time": "2020-11-23T18:37:05.034133",
     "status": "completed"
    },
    "tags": []
   },
   "outputs": [],
   "source": [
    "# import LinearRegression from sklearn\n",
    "from sklearn.linear_model import LinearRegression\n",
    "\n",
    "# Representing LinearRegression as lr(Creating LinearRegression Object)\n",
    "lr = LinearRegression()\n",
    "\n",
    "# Fit the model using lr.fit()\n",
    "# lr.fit(X_train, y_train) # ERROR"
   ]
  },
  {
   "cell_type": "markdown",
   "metadata": {},
   "source": [
    "### Why does this happen?\n",
    "\n",
    "- If X_train.shape is (700,), it means X_train is a 1D array, but LinearRegression.fit() requires a 2D array with shape (700, n_features).\n",
    "- Reshaping with .reshape(-1, 1) converts a 1D array into a column vector suitable for training."
   ]
  },
  {
   "cell_type": "code",
   "execution_count": 29,
   "metadata": {},
   "outputs": [],
   "source": [
    "X_train = X_train.values.reshape(700,1)\n",
    "X_test = X_test.values.reshape(300,1)"
   ]
  },
  {
   "cell_type": "code",
   "execution_count": 30,
   "metadata": {},
   "outputs": [
    {
     "name": "stdout",
     "output_type": "stream",
     "text": [
      "(700, 1)\n",
      "(700,)\n",
      "(300, 1)\n",
      "(300,)\n"
     ]
    }
   ],
   "source": [
    "print(X_train.shape)\n",
    "print(y_train.shape)\n",
    "print(X_test.shape)\n",
    "print(y_test.shape)"
   ]
  },
  {
   "cell_type": "code",
   "execution_count": 31,
   "metadata": {},
   "outputs": [
    {
     "data": {
      "text/html": [
       "<style>#sk-container-id-2 {\n",
       "  /* Definition of color scheme common for light and dark mode */\n",
       "  --sklearn-color-text: black;\n",
       "  --sklearn-color-line: gray;\n",
       "  /* Definition of color scheme for unfitted estimators */\n",
       "  --sklearn-color-unfitted-level-0: #fff5e6;\n",
       "  --sklearn-color-unfitted-level-1: #f6e4d2;\n",
       "  --sklearn-color-unfitted-level-2: #ffe0b3;\n",
       "  --sklearn-color-unfitted-level-3: chocolate;\n",
       "  /* Definition of color scheme for fitted estimators */\n",
       "  --sklearn-color-fitted-level-0: #f0f8ff;\n",
       "  --sklearn-color-fitted-level-1: #d4ebff;\n",
       "  --sklearn-color-fitted-level-2: #b3dbfd;\n",
       "  --sklearn-color-fitted-level-3: cornflowerblue;\n",
       "\n",
       "  /* Specific color for light theme */\n",
       "  --sklearn-color-text-on-default-background: var(--sg-text-color, var(--theme-code-foreground, var(--jp-content-font-color1, black)));\n",
       "  --sklearn-color-background: var(--sg-background-color, var(--theme-background, var(--jp-layout-color0, white)));\n",
       "  --sklearn-color-border-box: var(--sg-text-color, var(--theme-code-foreground, var(--jp-content-font-color1, black)));\n",
       "  --sklearn-color-icon: #696969;\n",
       "\n",
       "  @media (prefers-color-scheme: dark) {\n",
       "    /* Redefinition of color scheme for dark theme */\n",
       "    --sklearn-color-text-on-default-background: var(--sg-text-color, var(--theme-code-foreground, var(--jp-content-font-color1, white)));\n",
       "    --sklearn-color-background: var(--sg-background-color, var(--theme-background, var(--jp-layout-color0, #111)));\n",
       "    --sklearn-color-border-box: var(--sg-text-color, var(--theme-code-foreground, var(--jp-content-font-color1, white)));\n",
       "    --sklearn-color-icon: #878787;\n",
       "  }\n",
       "}\n",
       "\n",
       "#sk-container-id-2 {\n",
       "  color: var(--sklearn-color-text);\n",
       "}\n",
       "\n",
       "#sk-container-id-2 pre {\n",
       "  padding: 0;\n",
       "}\n",
       "\n",
       "#sk-container-id-2 input.sk-hidden--visually {\n",
       "  border: 0;\n",
       "  clip: rect(1px 1px 1px 1px);\n",
       "  clip: rect(1px, 1px, 1px, 1px);\n",
       "  height: 1px;\n",
       "  margin: -1px;\n",
       "  overflow: hidden;\n",
       "  padding: 0;\n",
       "  position: absolute;\n",
       "  width: 1px;\n",
       "}\n",
       "\n",
       "#sk-container-id-2 div.sk-dashed-wrapped {\n",
       "  border: 1px dashed var(--sklearn-color-line);\n",
       "  margin: 0 0.4em 0.5em 0.4em;\n",
       "  box-sizing: border-box;\n",
       "  padding-bottom: 0.4em;\n",
       "  background-color: var(--sklearn-color-background);\n",
       "}\n",
       "\n",
       "#sk-container-id-2 div.sk-container {\n",
       "  /* jupyter's `normalize.less` sets `[hidden] { display: none; }`\n",
       "     but bootstrap.min.css set `[hidden] { display: none !important; }`\n",
       "     so we also need the `!important` here to be able to override the\n",
       "     default hidden behavior on the sphinx rendered scikit-learn.org.\n",
       "     See: https://github.com/scikit-learn/scikit-learn/issues/21755 */\n",
       "  display: inline-block !important;\n",
       "  position: relative;\n",
       "}\n",
       "\n",
       "#sk-container-id-2 div.sk-text-repr-fallback {\n",
       "  display: none;\n",
       "}\n",
       "\n",
       "div.sk-parallel-item,\n",
       "div.sk-serial,\n",
       "div.sk-item {\n",
       "  /* draw centered vertical line to link estimators */\n",
       "  background-image: linear-gradient(var(--sklearn-color-text-on-default-background), var(--sklearn-color-text-on-default-background));\n",
       "  background-size: 2px 100%;\n",
       "  background-repeat: no-repeat;\n",
       "  background-position: center center;\n",
       "}\n",
       "\n",
       "/* Parallel-specific style estimator block */\n",
       "\n",
       "#sk-container-id-2 div.sk-parallel-item::after {\n",
       "  content: \"\";\n",
       "  width: 100%;\n",
       "  border-bottom: 2px solid var(--sklearn-color-text-on-default-background);\n",
       "  flex-grow: 1;\n",
       "}\n",
       "\n",
       "#sk-container-id-2 div.sk-parallel {\n",
       "  display: flex;\n",
       "  align-items: stretch;\n",
       "  justify-content: center;\n",
       "  background-color: var(--sklearn-color-background);\n",
       "  position: relative;\n",
       "}\n",
       "\n",
       "#sk-container-id-2 div.sk-parallel-item {\n",
       "  display: flex;\n",
       "  flex-direction: column;\n",
       "}\n",
       "\n",
       "#sk-container-id-2 div.sk-parallel-item:first-child::after {\n",
       "  align-self: flex-end;\n",
       "  width: 50%;\n",
       "}\n",
       "\n",
       "#sk-container-id-2 div.sk-parallel-item:last-child::after {\n",
       "  align-self: flex-start;\n",
       "  width: 50%;\n",
       "}\n",
       "\n",
       "#sk-container-id-2 div.sk-parallel-item:only-child::after {\n",
       "  width: 0;\n",
       "}\n",
       "\n",
       "/* Serial-specific style estimator block */\n",
       "\n",
       "#sk-container-id-2 div.sk-serial {\n",
       "  display: flex;\n",
       "  flex-direction: column;\n",
       "  align-items: center;\n",
       "  background-color: var(--sklearn-color-background);\n",
       "  padding-right: 1em;\n",
       "  padding-left: 1em;\n",
       "}\n",
       "\n",
       "\n",
       "/* Toggleable style: style used for estimator/Pipeline/ColumnTransformer box that is\n",
       "clickable and can be expanded/collapsed.\n",
       "- Pipeline and ColumnTransformer use this feature and define the default style\n",
       "- Estimators will overwrite some part of the style using the `sk-estimator` class\n",
       "*/\n",
       "\n",
       "/* Pipeline and ColumnTransformer style (default) */\n",
       "\n",
       "#sk-container-id-2 div.sk-toggleable {\n",
       "  /* Default theme specific background. It is overwritten whether we have a\n",
       "  specific estimator or a Pipeline/ColumnTransformer */\n",
       "  background-color: var(--sklearn-color-background);\n",
       "}\n",
       "\n",
       "/* Toggleable label */\n",
       "#sk-container-id-2 label.sk-toggleable__label {\n",
       "  cursor: pointer;\n",
       "  display: block;\n",
       "  width: 100%;\n",
       "  margin-bottom: 0;\n",
       "  padding: 0.5em;\n",
       "  box-sizing: border-box;\n",
       "  text-align: center;\n",
       "}\n",
       "\n",
       "#sk-container-id-2 label.sk-toggleable__label-arrow:before {\n",
       "  /* Arrow on the left of the label */\n",
       "  content: \"▸\";\n",
       "  float: left;\n",
       "  margin-right: 0.25em;\n",
       "  color: var(--sklearn-color-icon);\n",
       "}\n",
       "\n",
       "#sk-container-id-2 label.sk-toggleable__label-arrow:hover:before {\n",
       "  color: var(--sklearn-color-text);\n",
       "}\n",
       "\n",
       "/* Toggleable content - dropdown */\n",
       "\n",
       "#sk-container-id-2 div.sk-toggleable__content {\n",
       "  max-height: 0;\n",
       "  max-width: 0;\n",
       "  overflow: hidden;\n",
       "  text-align: left;\n",
       "  /* unfitted */\n",
       "  background-color: var(--sklearn-color-unfitted-level-0);\n",
       "}\n",
       "\n",
       "#sk-container-id-2 div.sk-toggleable__content.fitted {\n",
       "  /* fitted */\n",
       "  background-color: var(--sklearn-color-fitted-level-0);\n",
       "}\n",
       "\n",
       "#sk-container-id-2 div.sk-toggleable__content pre {\n",
       "  margin: 0.2em;\n",
       "  border-radius: 0.25em;\n",
       "  color: var(--sklearn-color-text);\n",
       "  /* unfitted */\n",
       "  background-color: var(--sklearn-color-unfitted-level-0);\n",
       "}\n",
       "\n",
       "#sk-container-id-2 div.sk-toggleable__content.fitted pre {\n",
       "  /* unfitted */\n",
       "  background-color: var(--sklearn-color-fitted-level-0);\n",
       "}\n",
       "\n",
       "#sk-container-id-2 input.sk-toggleable__control:checked~div.sk-toggleable__content {\n",
       "  /* Expand drop-down */\n",
       "  max-height: 200px;\n",
       "  max-width: 100%;\n",
       "  overflow: auto;\n",
       "}\n",
       "\n",
       "#sk-container-id-2 input.sk-toggleable__control:checked~label.sk-toggleable__label-arrow:before {\n",
       "  content: \"▾\";\n",
       "}\n",
       "\n",
       "/* Pipeline/ColumnTransformer-specific style */\n",
       "\n",
       "#sk-container-id-2 div.sk-label input.sk-toggleable__control:checked~label.sk-toggleable__label {\n",
       "  color: var(--sklearn-color-text);\n",
       "  background-color: var(--sklearn-color-unfitted-level-2);\n",
       "}\n",
       "\n",
       "#sk-container-id-2 div.sk-label.fitted input.sk-toggleable__control:checked~label.sk-toggleable__label {\n",
       "  background-color: var(--sklearn-color-fitted-level-2);\n",
       "}\n",
       "\n",
       "/* Estimator-specific style */\n",
       "\n",
       "/* Colorize estimator box */\n",
       "#sk-container-id-2 div.sk-estimator input.sk-toggleable__control:checked~label.sk-toggleable__label {\n",
       "  /* unfitted */\n",
       "  background-color: var(--sklearn-color-unfitted-level-2);\n",
       "}\n",
       "\n",
       "#sk-container-id-2 div.sk-estimator.fitted input.sk-toggleable__control:checked~label.sk-toggleable__label {\n",
       "  /* fitted */\n",
       "  background-color: var(--sklearn-color-fitted-level-2);\n",
       "}\n",
       "\n",
       "#sk-container-id-2 div.sk-label label.sk-toggleable__label,\n",
       "#sk-container-id-2 div.sk-label label {\n",
       "  /* The background is the default theme color */\n",
       "  color: var(--sklearn-color-text-on-default-background);\n",
       "}\n",
       "\n",
       "/* On hover, darken the color of the background */\n",
       "#sk-container-id-2 div.sk-label:hover label.sk-toggleable__label {\n",
       "  color: var(--sklearn-color-text);\n",
       "  background-color: var(--sklearn-color-unfitted-level-2);\n",
       "}\n",
       "\n",
       "/* Label box, darken color on hover, fitted */\n",
       "#sk-container-id-2 div.sk-label.fitted:hover label.sk-toggleable__label.fitted {\n",
       "  color: var(--sklearn-color-text);\n",
       "  background-color: var(--sklearn-color-fitted-level-2);\n",
       "}\n",
       "\n",
       "/* Estimator label */\n",
       "\n",
       "#sk-container-id-2 div.sk-label label {\n",
       "  font-family: monospace;\n",
       "  font-weight: bold;\n",
       "  display: inline-block;\n",
       "  line-height: 1.2em;\n",
       "}\n",
       "\n",
       "#sk-container-id-2 div.sk-label-container {\n",
       "  text-align: center;\n",
       "}\n",
       "\n",
       "/* Estimator-specific */\n",
       "#sk-container-id-2 div.sk-estimator {\n",
       "  font-family: monospace;\n",
       "  border: 1px dotted var(--sklearn-color-border-box);\n",
       "  border-radius: 0.25em;\n",
       "  box-sizing: border-box;\n",
       "  margin-bottom: 0.5em;\n",
       "  /* unfitted */\n",
       "  background-color: var(--sklearn-color-unfitted-level-0);\n",
       "}\n",
       "\n",
       "#sk-container-id-2 div.sk-estimator.fitted {\n",
       "  /* fitted */\n",
       "  background-color: var(--sklearn-color-fitted-level-0);\n",
       "}\n",
       "\n",
       "/* on hover */\n",
       "#sk-container-id-2 div.sk-estimator:hover {\n",
       "  /* unfitted */\n",
       "  background-color: var(--sklearn-color-unfitted-level-2);\n",
       "}\n",
       "\n",
       "#sk-container-id-2 div.sk-estimator.fitted:hover {\n",
       "  /* fitted */\n",
       "  background-color: var(--sklearn-color-fitted-level-2);\n",
       "}\n",
       "\n",
       "/* Specification for estimator info (e.g. \"i\" and \"?\") */\n",
       "\n",
       "/* Common style for \"i\" and \"?\" */\n",
       "\n",
       ".sk-estimator-doc-link,\n",
       "a:link.sk-estimator-doc-link,\n",
       "a:visited.sk-estimator-doc-link {\n",
       "  float: right;\n",
       "  font-size: smaller;\n",
       "  line-height: 1em;\n",
       "  font-family: monospace;\n",
       "  background-color: var(--sklearn-color-background);\n",
       "  border-radius: 1em;\n",
       "  height: 1em;\n",
       "  width: 1em;\n",
       "  text-decoration: none !important;\n",
       "  margin-left: 1ex;\n",
       "  /* unfitted */\n",
       "  border: var(--sklearn-color-unfitted-level-1) 1pt solid;\n",
       "  color: var(--sklearn-color-unfitted-level-1);\n",
       "}\n",
       "\n",
       ".sk-estimator-doc-link.fitted,\n",
       "a:link.sk-estimator-doc-link.fitted,\n",
       "a:visited.sk-estimator-doc-link.fitted {\n",
       "  /* fitted */\n",
       "  border: var(--sklearn-color-fitted-level-1) 1pt solid;\n",
       "  color: var(--sklearn-color-fitted-level-1);\n",
       "}\n",
       "\n",
       "/* On hover */\n",
       "div.sk-estimator:hover .sk-estimator-doc-link:hover,\n",
       ".sk-estimator-doc-link:hover,\n",
       "div.sk-label-container:hover .sk-estimator-doc-link:hover,\n",
       ".sk-estimator-doc-link:hover {\n",
       "  /* unfitted */\n",
       "  background-color: var(--sklearn-color-unfitted-level-3);\n",
       "  color: var(--sklearn-color-background);\n",
       "  text-decoration: none;\n",
       "}\n",
       "\n",
       "div.sk-estimator.fitted:hover .sk-estimator-doc-link.fitted:hover,\n",
       ".sk-estimator-doc-link.fitted:hover,\n",
       "div.sk-label-container:hover .sk-estimator-doc-link.fitted:hover,\n",
       ".sk-estimator-doc-link.fitted:hover {\n",
       "  /* fitted */\n",
       "  background-color: var(--sklearn-color-fitted-level-3);\n",
       "  color: var(--sklearn-color-background);\n",
       "  text-decoration: none;\n",
       "}\n",
       "\n",
       "/* Span, style for the box shown on hovering the info icon */\n",
       ".sk-estimator-doc-link span {\n",
       "  display: none;\n",
       "  z-index: 9999;\n",
       "  position: relative;\n",
       "  font-weight: normal;\n",
       "  right: .2ex;\n",
       "  padding: .5ex;\n",
       "  margin: .5ex;\n",
       "  width: min-content;\n",
       "  min-width: 20ex;\n",
       "  max-width: 50ex;\n",
       "  color: var(--sklearn-color-text);\n",
       "  box-shadow: 2pt 2pt 4pt #999;\n",
       "  /* unfitted */\n",
       "  background: var(--sklearn-color-unfitted-level-0);\n",
       "  border: .5pt solid var(--sklearn-color-unfitted-level-3);\n",
       "}\n",
       "\n",
       ".sk-estimator-doc-link.fitted span {\n",
       "  /* fitted */\n",
       "  background: var(--sklearn-color-fitted-level-0);\n",
       "  border: var(--sklearn-color-fitted-level-3);\n",
       "}\n",
       "\n",
       ".sk-estimator-doc-link:hover span {\n",
       "  display: block;\n",
       "}\n",
       "\n",
       "/* \"?\"-specific style due to the `<a>` HTML tag */\n",
       "\n",
       "#sk-container-id-2 a.estimator_doc_link {\n",
       "  float: right;\n",
       "  font-size: 1rem;\n",
       "  line-height: 1em;\n",
       "  font-family: monospace;\n",
       "  background-color: var(--sklearn-color-background);\n",
       "  border-radius: 1rem;\n",
       "  height: 1rem;\n",
       "  width: 1rem;\n",
       "  text-decoration: none;\n",
       "  /* unfitted */\n",
       "  color: var(--sklearn-color-unfitted-level-1);\n",
       "  border: var(--sklearn-color-unfitted-level-1) 1pt solid;\n",
       "}\n",
       "\n",
       "#sk-container-id-2 a.estimator_doc_link.fitted {\n",
       "  /* fitted */\n",
       "  border: var(--sklearn-color-fitted-level-1) 1pt solid;\n",
       "  color: var(--sklearn-color-fitted-level-1);\n",
       "}\n",
       "\n",
       "/* On hover */\n",
       "#sk-container-id-2 a.estimator_doc_link:hover {\n",
       "  /* unfitted */\n",
       "  background-color: var(--sklearn-color-unfitted-level-3);\n",
       "  color: var(--sklearn-color-background);\n",
       "  text-decoration: none;\n",
       "}\n",
       "\n",
       "#sk-container-id-2 a.estimator_doc_link.fitted:hover {\n",
       "  /* fitted */\n",
       "  background-color: var(--sklearn-color-fitted-level-3);\n",
       "}\n",
       "</style><div id=\"sk-container-id-2\" class=\"sk-top-container\"><div class=\"sk-text-repr-fallback\"><pre>LinearRegression()</pre><b>In a Jupyter environment, please rerun this cell to show the HTML representation or trust the notebook. <br />On GitHub, the HTML representation is unable to render, please try loading this page with nbviewer.org.</b></div><div class=\"sk-container\" hidden><div class=\"sk-item\"><div class=\"sk-estimator fitted sk-toggleable\"><input class=\"sk-toggleable__control sk-hidden--visually\" id=\"sk-estimator-id-2\" type=\"checkbox\" checked><label for=\"sk-estimator-id-2\" class=\"sk-toggleable__label fitted sk-toggleable__label-arrow fitted\">&nbsp;&nbsp;LinearRegression<a class=\"sk-estimator-doc-link fitted\" rel=\"noreferrer\" target=\"_blank\" href=\"https://scikit-learn.org/1.5/modules/generated/sklearn.linear_model.LinearRegression.html\">?<span>Documentation for LinearRegression</span></a><span class=\"sk-estimator-doc-link fitted\">i<span>Fitted</span></span></label><div class=\"sk-toggleable__content fitted\"><pre>LinearRegression()</pre></div> </div></div></div></div>"
      ],
      "text/plain": [
       "LinearRegression()"
      ]
     },
     "execution_count": 31,
     "metadata": {},
     "output_type": "execute_result"
    }
   ],
   "source": [
    "# import LinearRegression from sklearn\n",
    "from sklearn.linear_model import LinearRegression\n",
    "\n",
    "# Representing LinearRegression as lr(Creating LinearRegression Object)\n",
    "lr = LinearRegression()\n",
    "\n",
    "# Fit the model using lr.fit()\n",
    "lr.fit(X_train, y_train)"
   ]
  },
  {
   "cell_type": "markdown",
   "metadata": {
    "id": "ZhChGqJ2BW52",
    "papermill": {
     "duration": 0.040717,
     "end_time": "2020-11-23T18:37:05.262076",
     "exception": false,
     "start_time": "2020-11-23T18:37:05.221359",
     "status": "completed"
    },
    "tags": []
   },
   "source": [
    "## Coefficients Calculation"
   ]
  },
  {
   "cell_type": "code",
   "execution_count": 32,
   "metadata": {
    "execution": {
     "iopub.execute_input": "2020-11-23T18:37:05.351781Z",
     "iopub.status.busy": "2020-11-23T18:37:05.350733Z",
     "iopub.status.idle": "2020-11-23T18:37:05.355686Z",
     "shell.execute_reply": "2020-11-23T18:37:05.354662Z"
    },
    "id": "527h4jGWBW52",
    "outputId": "45d60d59-59c1-4b1e-d66e-2c4e6e44f6f7",
    "papermill": {
     "duration": 0.052679,
     "end_time": "2020-11-23T18:37:05.355848",
     "exception": false,
     "start_time": "2020-11-23T18:37:05.303169",
     "status": "completed"
    },
    "scrolled": true,
    "tags": []
   },
   "outputs": [
    {
     "name": "stdout",
     "output_type": "stream",
     "text": [
      "-0.7953241893015246\n",
      "[0.99386597]\n"
     ]
    }
   ],
   "source": [
    "# Print the intercept and coefficients\n",
    "print(lr.intercept_)\n",
    "print(lr.coef_)"
   ]
  },
  {
   "cell_type": "markdown",
   "metadata": {
    "id": "Hm_44AKFBW53",
    "papermill": {
     "duration": 0.041254,
     "end_time": "2020-11-23T18:37:05.439567",
     "exception": false,
     "start_time": "2020-11-23T18:37:05.398313",
     "status": "completed"
    },
    "tags": []
   },
   "source": [
    "$y = -0.79532 + 0.9938 \\times reading score $<br>\n",
    "\n",
    "Now, let's use this equation to predict our writing score."
   ]
  },
  {
   "cell_type": "markdown",
   "metadata": {
    "id": "8t8Av_XXBW53",
    "papermill": {
     "duration": 0.041059,
     "end_time": "2020-11-23T18:37:05.521981",
     "exception": false,
     "start_time": "2020-11-23T18:37:05.480922",
     "status": "completed"
    },
    "tags": []
   },
   "source": [
    "## Predictions"
   ]
  },
  {
   "cell_type": "code",
   "execution_count": 33,
   "metadata": {
    "execution": {
     "iopub.execute_input": "2020-11-23T18:37:05.611127Z",
     "iopub.status.busy": "2020-11-23T18:37:05.610311Z",
     "iopub.status.idle": "2020-11-23T18:37:05.613752Z",
     "shell.execute_reply": "2020-11-23T18:37:05.613031Z"
    },
    "id": "wJqlolZtBW53",
    "papermill": {
     "duration": 0.050419,
     "end_time": "2020-11-23T18:37:05.613866",
     "exception": false,
     "start_time": "2020-11-23T18:37:05.563447",
     "status": "completed"
    },
    "tags": []
   },
   "outputs": [],
   "source": [
    "# Making predictions on the testing set\n",
    "y_pred = lr.predict(X_test)"
   ]
  },
  {
   "cell_type": "code",
   "execution_count": 35,
   "metadata": {
    "execution": {
     "iopub.execute_input": "2020-11-23T18:37:05.702163Z",
     "iopub.status.busy": "2020-11-23T18:37:05.701261Z",
     "iopub.status.idle": "2020-11-23T18:37:05.705434Z",
     "shell.execute_reply": "2020-11-23T18:37:05.704874Z"
    },
    "id": "4u4Cz-xqBW53",
    "outputId": "b0d8415b-b6c7-4b39-d8d2-a13bc41c54d8",
    "papermill": {
     "duration": 0.050307,
     "end_time": "2020-11-23T18:37:05.705582",
     "exception": false,
     "start_time": "2020-11-23T18:37:05.655275",
     "status": "completed"
    },
    "tags": []
   },
   "outputs": [
    {
     "data": {
      "text/plain": [
       "array([71.53184742, 72.47588605, 45.83267844, 61.3605631 , 77.06800051,\n",
       "       70.96939104, 68.57898206, 42.15302172, 86.14503883, 33.76137526,\n",
       "       47.53245666, 69.66776699, 79.82554804, 79.31891141, 55.548914  ,\n",
       "       40.34276627, 47.66066054, 90.32032585, 52.68221231, 76.97072194,\n",
       "       64.72374046, 58.14113121, 75.22359699, 59.80772324, 45.34416123,\n",
       "       64.20197126, 52.88897996, 43.86646203, 71.71657526, 89.34187136,\n",
       "       86.41889039, 83.64664555, 91.73229392, 61.75136396, 56.35547667,\n",
       "       78.57552787, 99.27013336, 57.43193017, 76.24864492, 71.50999593,\n",
       "       63.48941438, 53.97349581, 73.69585547, 77.50708702, 82.06361758,\n",
       "       58.17161094, 89.82363398, 61.04098212, 80.83781421, 62.62923911,\n",
       "       36.53120456, 61.07656446, 49.07589962, 55.09945087, 41.39094689,\n",
       "       72.5512254 , 51.96632346, 62.10537164, 74.25299123, 64.16947483,\n",
       "       67.34238672, 78.0564851 , 54.7322854 , 76.32579373, 66.2461072 ,\n",
       "       68.56436824, 72.07459195, 53.2366169 , 69.1323941 , 50.80904005,\n",
       "       70.30944043, 85.9505296 , 71.77964646, 69.17259307, 55.08796106,\n",
       "       65.06053489, 69.09921033, 69.19525471, 28.77644211, 78.07210108,\n",
       "       78.10788185, 87.82261977, 72.44207303, 83.80773064, 63.09713479,\n",
       "       75.78540137, 65.71048482, 86.52668907, 76.75775189, 61.27416101,\n",
       "       75.91068016, 63.15797301, 64.69772378, 55.76966646, 75.58707043,\n",
       "       72.86496656, 47.46080688, 75.32147076, 64.90365678, 64.38433483,\n",
       "       50.6739501 , 89.3810084 , 63.3613191 , 47.2297546 , 70.85005768,\n",
       "       79.2481312 , 72.10874882, 64.75144361, 62.00024097, 89.7035919 ,\n",
       "       71.17361203, 73.93704606, 30.83901425, 58.5297245 , 72.32722139,\n",
       "       75.09900486, 82.08495352, 80.4894306 , 81.15446121, 60.46852823,\n",
       "       55.25959988, 82.98138604, 92.55761972, 81.64867349, 73.30679287,\n",
       "       64.02924702, 73.32368921, 76.78017781, 67.42780933, 63.00192664,\n",
       "       62.89414046, 63.49994872, 23.21169409, 80.26181884, 89.34752458,\n",
       "       56.87002218, 60.11303967, 63.24390156, 73.200587  , 80.73451844,\n",
       "       73.61081717, 67.38084181, 48.52510173, 59.30477592, 85.6482917 ,\n",
       "       38.11006273, 42.43872353, 44.31126631, 82.88463316, 85.79384453,\n",
       "       48.76116297, 73.0306544 , 98.31734905, 66.8537895 , 80.93068165,\n",
       "       80.48302884, 53.3285525 , 57.5604502 , 61.47390823, 51.49178425,\n",
       "       96.16775801, 58.36784348, 57.07244655, 91.77017455, 60.20541308,\n",
       "       82.37330903, 78.06261279, 64.94857638, 55.91584098, 57.91496183,\n",
       "       60.00407869, 67.53589562, 38.05809459, 66.86535692, 81.82868462,\n",
       "       71.04545619, 66.93004318, 52.8498977 , 99.35867996, 72.08525895,\n",
       "       61.79923112, 85.5864629 , 65.92093378, 65.19055751, 85.46483262,\n",
       "       65.18367594, 95.48554523, 98.7625189 , 77.68386223, 40.16170343,\n",
       "       48.93539853, 58.98944893, 47.52800939, 82.6765869 , 59.13786405,\n",
       "       60.13177722, 89.59757702, 81.81986419, 68.90749707, 65.88085529,\n",
       "       77.33501666, 78.18250902, 55.37017936, 93.81933259, 69.72119456,\n",
       "       59.88170413, 79.22136954, 88.02925441, 77.55883514, 65.74538423,\n",
       "       57.53013497, 89.27866511, 62.96873169, 60.93732461, 33.58063114,\n",
       "       75.2159724 , 85.40619438, 66.66508621, 60.03574938, 75.48231566,\n",
       "       80.22442048, 67.70470652, 56.03239261, 74.63706104, 64.12772313,\n",
       "       76.65130898, 87.97391572, 57.2935499 , 41.02884702, 65.97308201,\n",
       "       51.94271025, 70.13393525, 50.68881164, 51.61740217, 60.3409148 ,\n",
       "       66.80694674, 71.42810291, 61.1079833 , 68.02539181, 63.13436104,\n",
       "       81.90063706, 51.35971531, 83.57132629, 59.21488961, 80.76390172,\n",
       "       68.83162758, 60.10357464, 94.58866589, 63.55553527, 88.22566984,\n",
       "       79.44662101, 84.53537482, 79.34687463, 82.87538524, 40.85850309,\n",
       "       77.81740943, 58.96771267, 86.2651996 , 69.61232271, 89.31894754,\n",
       "       67.72408419, 73.50528133, 67.15630051, 71.57196703, 70.90529624,\n",
       "       77.69981542, 78.32167465, 68.25868263, 75.65553716, 73.60513233,\n",
       "       84.25666574, 66.63553581, 54.34594712, 52.37112709, 71.49094716,\n",
       "       67.73636401, 41.42742095, 51.84177752, 82.56368445, 85.65561969,\n",
       "       85.68971902, 59.31604644, 77.54279385, 78.38077005, 74.38062744,\n",
       "       54.99569888, 84.61851318, 63.29293189, 72.76961333, 64.30224319,\n",
       "       87.41063662, 78.34994872, 74.22554675, 57.45101737, 80.22247841,\n",
       "       75.32866405, 77.32980919, 74.72794855, 63.03729089, 53.79118751])"
      ]
     },
     "execution_count": 35,
     "metadata": {},
     "output_type": "execute_result"
    }
   ],
   "source": [
    "y_pred"
   ]
  },
  {
   "cell_type": "code",
   "execution_count": 36,
   "metadata": {
    "execution": {
     "iopub.execute_input": "2020-11-23T18:37:06.010519Z",
     "iopub.status.busy": "2020-11-23T18:37:06.003594Z",
     "iopub.status.idle": "2020-11-23T18:37:06.196203Z",
     "shell.execute_reply": "2020-11-23T18:37:06.196820Z"
    },
    "id": "beUEVjg3Jb_h",
    "outputId": "bdb68398-759e-4f78-b568-a32fab391ec6",
    "papermill": {
     "duration": 0.270674,
     "end_time": "2020-11-23T18:37:06.196972",
     "exception": false,
     "start_time": "2020-11-23T18:37:05.926298",
     "status": "completed"
    },
    "tags": []
   },
   "outputs": [
    {
     "data": {
      "image/png": "[encoded data removed]",
      "text/plain": [
       "<Figure size 1200x400 with 1 Axes>"
      ]
     },
     "metadata": {},
     "output_type": "display_data"
    }
   ],
   "source": [
    "# Actual vs Predicted\n",
    "import matplotlib.pyplot as plt\n",
    "\n",
    "c = [i for i in range(1,301)] # generating index \n",
    "\n",
    "fig = plt.figure(figsize=(12,4))\n",
    "plt.plot(c,y_test, color=\"blue\", linewidth=2, linestyle=\"-\")\n",
    "plt.plot(c,y_pred, color=\"red\",  linewidth=1, linestyle=\"-\")\n",
    "fig.suptitle('Actual and Predicted')              \n",
    "plt.xlabel('Index')                               \n",
    "plt.ylabel('Output')    \n",
    "plt.show()                           "
   ]
  }
 ],
 "metadata": {
  "kernelspec": {
   "display_name": "Python 3",
   "language": "python",
   "name": "python3"
  },
  "language_info": {
   "codemirror_mode": {
    "name": "ipython",
    "version": 3
   },
   "file_extension": ".py",
   "mimetype": "text/x-python",
   "name": "python",
   "nbconvert_exporter": "python",
   "pygments_lexer": "ipython3",
   "version": "3.12.4"
  },
  "papermill": {
   "duration": 10.219842,
   "end_time": "2020-11-23T18:37:07.394464",
   "environment_variables": {},
   "exception": null,
   "input_path": "__notebook__.ipynb",
   "output_path": "__notebook__.ipynb",
   "parameters": {},
   "start_time": "2020-11-23T18:36:57.174622",
   "version": "2.1.0"
  }
 },
 "nbformat": 4,
 "nbformat_minor": 4
}
