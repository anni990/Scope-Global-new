{
 "cells": [
  {
   "cell_type": "markdown",
   "id": "a4a06784",
   "metadata": {},
   "source": [
    "<font size=7><b> Numpy"
   ]
  },
  {
   "cell_type": "markdown",
   "id": "5d46005f",
   "metadata": {},
   "source": [
    "<font size=6> *What is NumPy?*"
   ]
  },
  {
   "cell_type": "markdown",
   "id": "bf9f3c59",
   "metadata": {},
   "source": [
    "<font size=4>- NumPy is a Python library used for working with arrays.\n",
    "\n",
    "<font size=4>- It also has functions for working in domain of linear algebra, fourier transform, and matrices.\n",
    "\n",
    "<font size=4>- NumPy was created in 2005 by Travis Oliphant. It is an open source project and you can use it freely.\n",
    "\n",
    "<font size=4>- NumPy stands for Numerical Python."
   ]
  },
  {
   "cell_type": "markdown",
   "id": "38d9d6dc",
   "metadata": {},
   "source": [
    "<font size=6> *Why Use NumPy?*"
   ]
  },
  {
   "cell_type": "markdown",
   "id": "16fbc6b1",
   "metadata": {},
   "source": [
    "<font size=4>-In Python we have lists that serve the purpose of arrays, but they are slow to process.\n",
    "    \n",
    "\n",
    "<font size=4>-NumPy aims to provide an array object that is up to 50x faster than traditional Python lists.\n",
    "\n",
    "<font size=4>-The array object in NumPy is called **ndarray**, it provides a lot of supporting functions that make working with **ndarray** very easy.\n",
    "\n",
    " <font size=4>-Arrays are very frequently used in data science, where speed and resources are very important.</font>"
   ]
  },
  {
   "cell_type": "markdown",
   "id": "2224c374",
   "metadata": {},
   "source": [
    "<font size=6> *Why is NumPy Faster Than Lists?*"
   ]
  },
  {
   "cell_type": "markdown",
   "id": "0dd696fd",
   "metadata": {},
   "source": [
    "<font size=4>-NumPy arrays are stored at one continuous place in memory unlike lists, so processes can access and manipulate them very efficiently.\n",
    "\n",
    "<font size=4>-This behavior is called locality of reference in computer science.\n",
    "\n",
    "<font size=4>-This is the main reason why NumPy is faster than lists. Also it is optimized to work with latest CPU architectures."
   ]
  },
  {
   "cell_type": "markdown",
   "id": "6581606c",
   "metadata": {},
   "source": [
    "<font size=6>*Which Language is NumPy written in?*"
   ]
  },
  {
   "cell_type": "markdown",
   "id": "f7600a8e",
   "metadata": {},
   "source": [
    "<font size=4>NumPy is a Python library and is written partially in Python, but most of the parts that require fast computation are written in C or C++."
   ]
  },
  {
   "cell_type": "markdown",
   "id": "e2fb57f3",
   "metadata": {},
   "source": [
    "<font size=6> *Installation of NumPy*"
   ]
  },
  {
   "cell_type": "markdown",
   "id": "4f6caf76",
   "metadata": {},
   "source": [
    "<font size=4> If you have Python and PIP already installed on a system, then installation of NumPy is very easy.\n",
    "\n",
    "<font size=4> Install it using this command:"
   ]
  },
  {
   "cell_type": "code",
   "execution_count": null,
   "id": "b0065469",
   "metadata": {},
   "outputs": [],
   "source": [
    "! pip install numpy"
   ]
  },
  {
   "cell_type": "markdown",
   "id": "181ee2ad",
   "metadata": {},
   "source": [
    "<font size=4>If this command fails, then use a python distribution that already has NumPy installed like, Anaconda, Spyder etc."
   ]
  },
  {
   "cell_type": "markdown",
   "id": "6be59dcf",
   "metadata": {},
   "source": [
    "<font size=6> *NumPy as np*"
   ]
  },
  {
   "cell_type": "markdown",
   "id": "27a2977a",
   "metadata": {},
   "source": [
    "<font size=4>NumPy is usually imported under the **np** alias.\n",
    "    \n",
    "<font size=4>  Create an alias with the **as** keyword while importing:"
   ]
  },
  {
   "cell_type": "code",
   "execution_count": 2,
   "id": "27bfece1",
   "metadata": {},
   "outputs": [],
   "source": [
    "import numpy as np"
   ]
  },
  {
   "cell_type": "markdown",
   "id": "b222cb4b",
   "metadata": {},
   "source": [
    "<font size=6> *Creating an array*"
   ]
  },
  {
   "cell_type": "markdown",
   "id": "8147c3eb",
   "metadata": {},
   "source": [
    "<font size=4>NumPy is used to work with arrays. The array object in NumPy is called **ndarray**\n",
    "\n",
    "<font size=4>We can create a NumPy **ndarray** object by using the **array()** function."
   ]
  },
  {
   "cell_type": "code",
   "execution_count": null,
   "id": "f3f0845a",
   "metadata": {},
   "outputs": [],
   "source": [
    "# Using array function to create an array.\n",
    "\n",
    "\n",
    "np.array((1, 2, 3, 4, 5))"
   ]
  },
  {
   "cell_type": "code",
   "execution_count": null,
   "id": "20bf93c1",
   "metadata": {},
   "outputs": [],
   "source": [
    "data1 = [6,7.5,8,0,1]\n",
    "arr1 = np.array(data1)\n",
    "print(arr1)"
   ]
  },
  {
   "cell_type": "markdown",
   "id": "69d25a9f",
   "metadata": {},
   "source": [
    "<font size=5> ***numpy.arange()***"
   ]
  },
  {
   "cell_type": "markdown",
   "id": "7edcb832",
   "metadata": {},
   "source": [
    "<font size=4>The arange([start,] stop[, step,][, dtype]) : Returns an array with evenly spaced elements as per the interval. The interval mentioned is half-opened i.e. [Start, Stop) "
   ]
  },
  {
   "cell_type": "code",
   "execution_count": null,
   "id": "9c4683ee",
   "metadata": {},
   "outputs": [],
   "source": [
    "a = np.arange(4)\n",
    "a"
   ]
  },
  {
   "cell_type": "code",
   "execution_count": null,
   "id": "929eabff",
   "metadata": {},
   "outputs": [],
   "source": [
    "#Creates array with random values\n",
    "a1=np.random.random((4))#creates array with 4 random vals\n",
    "a1"
   ]
  },
  {
   "cell_type": "code",
   "execution_count": null,
   "id": "e90a9a69",
   "metadata": {},
   "outputs": [],
   "source": [
    "# Create an array of 10 random floats in the half-open interval [0.0, 1.0)\n",
    "array_random = np.random.random(10)\n",
    "print(array_random)"
   ]
  },
  {
   "cell_type": "code",
   "execution_count": null,
   "id": "67a683e1",
   "metadata": {},
   "outputs": [],
   "source": [
    "# Create a 2D array of shape (3, 4) with random values\n",
    "array_random_2d = np.random.random((3, 4))\n",
    "print(array_random_2d)\n"
   ]
  },
  {
   "cell_type": "code",
   "execution_count": null,
   "id": "3de7628d",
   "metadata": {},
   "outputs": [],
   "source": [
    "x1=np.random.randint(50,size=6)#one dimensional array\n",
    "x2=np.random.randint(10,size=(3,4))#two dimensional array\n",
    "x3=np.random.randint(10,size=(3,4,5))#three dimensional array\n",
    "print(x1)\n",
    "print()\n",
    "print(x2)\n",
    "print()\n",
    "print(x3)"
   ]
  },
  {
   "cell_type": "markdown",
   "id": "15c3ee26",
   "metadata": {},
   "source": [
    "<font size=5>***0-D Arrays***"
   ]
  },
  {
   "cell_type": "markdown",
   "id": "d5ad417c",
   "metadata": {},
   "source": [
    "<font size=4>0-D arrays, or Scalars, are the elements in an array. Each value in an array is a 0-D array."
   ]
  },
  {
   "cell_type": "code",
   "execution_count": null,
   "id": "8a885a79",
   "metadata": {},
   "outputs": [],
   "source": [
    "arr = np.array(42)\n",
    "print(arr)\n",
    "print('Dimensions :',arr.ndim)"
   ]
  },
  {
   "cell_type": "markdown",
   "id": "8a188a65",
   "metadata": {},
   "source": [
    "<font size=5>***1-D Arrays***"
   ]
  },
  {
   "cell_type": "markdown",
   "id": "f5e9f2c4",
   "metadata": {},
   "source": [
    "<font size=4>An array that has 0-D arrays as its elements is called uni-dimensional or 1-D array.\n",
    "These are the most common and basic arrays."
   ]
  },
  {
   "cell_type": "code",
   "execution_count": null,
   "id": "bb9188c2",
   "metadata": {},
   "outputs": [],
   "source": [
    "arr = np.array([1, 2, 3, 4, 5])\n",
    "print(arr)\n",
    "print('Dimensions :',arr.ndim)"
   ]
  },
  {
   "cell_type": "markdown",
   "id": "3851a30c",
   "metadata": {},
   "source": [
    "<font size=5>***2-D Arrays***"
   ]
  },
  {
   "cell_type": "markdown",
   "id": "2670e055",
   "metadata": {},
   "source": [
    "<font size=4>An array that has 1-D arrays as its elements is called a 2-D array.\n",
    "These are often used to represent matrix or 2nd order tensors."
   ]
  },
  {
   "cell_type": "code",
   "execution_count": null,
   "id": "8e8538bd",
   "metadata": {},
   "outputs": [],
   "source": [
    "#nested sequence will be convertd into a multidimensional array\n",
    "data2=[[1,2,3,4],[5,6,7,8]]\n",
    "arr2=np.array(data2)\n",
    "print(arr2)\n",
    "print('Dimensions :',arr2.ndim)"
   ]
  },
  {
   "cell_type": "markdown",
   "id": "b1d88554",
   "metadata": {},
   "source": [
    "<font size=5>***3-D arrays***"
   ]
  },
  {
   "cell_type": "markdown",
   "id": "4aaa99c1",
   "metadata": {},
   "source": [
    "<font size=4>An array that has 2-D arrays (matrices) as its elements is called 3-D array.\n",
    "These are often used to represent a 3rd order tensor."
   ]
  },
  {
   "cell_type": "code",
   "execution_count": null,
   "id": "c00071a1",
   "metadata": {},
   "outputs": [],
   "source": [
    "arr3 = np.array([[[1, 2, 3], [4, 5, 6]], [[1, 2, 3], [4, 5, 6]]])\n",
    "print(arr3)\n",
    "print('Dimensions :',arr3.ndim)"
   ]
  },
  {
   "cell_type": "markdown",
   "id": "d7c97484",
   "metadata": {},
   "source": [
    "<font size=5>***Higher Dimensional Arrays***"
   ]
  },
  {
   "cell_type": "markdown",
   "id": "f8e99af6",
   "metadata": {},
   "source": [
    "<font size=4>An array can have any number of dimensions.\n",
    "When the array is created, you can define the number of dimensions by using the **ndmin** argument."
   ]
  },
  {
   "cell_type": "code",
   "execution_count": null,
   "id": "8a6b91c0",
   "metadata": {},
   "outputs": [],
   "source": [
    "arr = np.array([1, 2, 3, 4], ndmin=5)\n",
    "print(arr)\n",
    "print('number of dimensions :', arr.ndim)"
   ]
  },
  {
   "cell_type": "markdown",
   "id": "89def4aa",
   "metadata": {},
   "source": [
    "<font size=5> ***Random***"
   ]
  },
  {
   "cell_type": "code",
   "execution_count": null,
   "id": "926ac4ba",
   "metadata": {},
   "outputs": [],
   "source": [
    "print(np.arange(1, 2, 0.1))"
   ]
  },
  {
   "cell_type": "code",
   "execution_count": null,
   "id": "902edf6b",
   "metadata": {},
   "outputs": [],
   "source": [
    "a=np.arange(3,9,2)\n",
    "print(a)"
   ]
  },
  {
   "cell_type": "markdown",
   "id": "24fcf475",
   "metadata": {},
   "source": [
    "<font size=6> *NumPy Array Shape*"
   ]
  },
  {
   "cell_type": "markdown",
   "id": "e98cd973",
   "metadata": {},
   "source": [
    "<font size=4>NumPy arrays have an attribute called ***shape*** that returns a tuple with each index having the number of corresponding elements."
   ]
  },
  {
   "cell_type": "code",
   "execution_count": null,
   "id": "a5315e5f",
   "metadata": {},
   "outputs": [],
   "source": [
    "arr = np.array([[1, 2, 3, 4], [5, 6, 7, 8]])\n",
    "print(arr.shape)"
   ]
  },
  {
   "cell_type": "markdown",
   "id": "f7ee5a4b",
   "metadata": {},
   "source": [
    "<font size=4>The example above returns ***(2, 4)***, which means that the array has 2 dimensions, where the first dimension has 2 elements and the second has 4."
   ]
  },
  {
   "cell_type": "markdown",
   "id": "693d3a83",
   "metadata": {},
   "source": [
    "<font size=6> *Reshaping arrays*"
   ]
  },
  {
   "cell_type": "markdown",
   "id": "37296704",
   "metadata": {},
   "source": [
    "<font size=4>-Reshaping means changing the shape of an array.\n",
    "\n",
    "<font size=4>-The shape of an array is the number of elements in each dimension.\n",
    "\n",
    "<font size=4>-By reshaping we can add or remove dimensions or change number of elements in each dimension."
   ]
  },
  {
   "cell_type": "markdown",
   "id": "b57a7eea",
   "metadata": {},
   "source": [
    "<font size=5> ***Reshape From 1-D to 2-D***"
   ]
  },
  {
   "cell_type": "code",
   "execution_count": null,
   "id": "74684d44",
   "metadata": {
    "scrolled": true
   },
   "outputs": [],
   "source": [
    "arr = np.array([1, 2, 3, 4, 5, 6, 7, 8, 9, 10, 11, 12]).reshape(4,3)\n",
    "print(arr)"
   ]
  },
  {
   "cell_type": "code",
   "execution_count": null,
   "id": "35ddb49f",
   "metadata": {},
   "outputs": [],
   "source": [
    "arr = np.array([1, 2, 3, 4, 5, 6, 7, 8, 9, 10, 11, 12]).reshape(3,4)\n",
    "print(arr)"
   ]
  },
  {
   "cell_type": "code",
   "execution_count": null,
   "id": "e5a5467d",
   "metadata": {},
   "outputs": [],
   "source": [
    "arr = np.array([1, 2, 3, 4, 5, 6, 7, 8, 9, 10, 11, 12])\n",
    "newarr = arr.reshape(2, 6)\n",
    "print(newarr)"
   ]
  },
  {
   "cell_type": "code",
   "execution_count": null,
   "id": "6e27b9c0",
   "metadata": {},
   "outputs": [],
   "source": [
    "arr = np.array([1, 2, 3, 4, 5, 6, 7, 8, 9, 10, 11, 12])\n",
    "newarr = arr.reshape(6, 2)\n",
    "print(newarr)"
   ]
  },
  {
   "cell_type": "markdown",
   "id": "86857c14",
   "metadata": {},
   "source": [
    "<font size=5> ***Reshape From 1-D to 3-D***"
   ]
  },
  {
   "cell_type": "code",
   "execution_count": null,
   "id": "dd750d25",
   "metadata": {
    "scrolled": true
   },
   "outputs": [],
   "source": [
    "arr = np.array([1, 2, 3, 4, 5, 6, 7, 8, 9, 10, 11, 12])\n",
    "newarr = arr.reshape(2, 3, 2)\n",
    "print(newarr)"
   ]
  },
  {
   "cell_type": "code",
   "execution_count": null,
   "id": "921c081d",
   "metadata": {
    "scrolled": true
   },
   "outputs": [],
   "source": [
    "arr = np.array([1, 2, 3, 4, 5, 6, 7, 8, 9, 10, 11, 12])\n",
    "newarr = arr.reshape(3, 2, 2)\n",
    "print(newarr)"
   ]
  },
  {
   "cell_type": "code",
   "execution_count": null,
   "id": "f38ba5d0",
   "metadata": {},
   "outputs": [],
   "source": [
    "arr = np.array([1, 2, 3, 4, 5, 6, 7, 8, 9, 10, 11, 12])\n",
    "newarr = arr.reshape(2, 2, 3)\n",
    "print(newarr)"
   ]
  },
  {
   "cell_type": "markdown",
   "id": "aab1e060",
   "metadata": {},
   "source": [
    "### Indexing in numpy array"
   ]
  },
  {
   "cell_type": "code",
   "execution_count": 20,
   "id": "28534aab",
   "metadata": {},
   "outputs": [],
   "source": [
    "arr1 = np.arange(10)\n",
    "arr2 = np.arange(12).reshape(3,4)\n",
    "arr3 = np.arange(24).reshape(2,4,3)"
   ]
  },
  {
   "cell_type": "code",
   "execution_count": null,
   "id": "5085a735",
   "metadata": {},
   "outputs": [],
   "source": [
    "arr1"
   ]
  },
  {
   "cell_type": "code",
   "execution_count": null,
   "id": "e0579efb",
   "metadata": {},
   "outputs": [],
   "source": [
    "# 1D array indexing. -> As with lists , single element indexing is 0-based and accepts negative indices for indexing from end of the array\n",
    "print(arr1[0])\n",
    "print(arr1[2])\n",
    "print(arr1[-1])\n",
    "print(arr1[-5])"
   ]
  },
  {
   "cell_type": "code",
   "execution_count": null,
   "id": "bbe7ef6d",
   "metadata": {},
   "outputs": [],
   "source": [
    "arr2"
   ]
  },
  {
   "cell_type": "code",
   "execution_count": null,
   "id": "a44f03a5",
   "metadata": {},
   "outputs": [],
   "source": [
    "# 2D array Indexing -> Individual element of a multi-dimensional array are accessed using multiple indices\n",
    "\n",
    "print(arr2[1][2]) # -> accessing an element from 2D array\n",
    "print(arr2[1,2])\n",
    "print(arr2[-1,2])"
   ]
  },
  {
   "cell_type": "code",
   "execution_count": null,
   "id": "db58f24d",
   "metadata": {},
   "outputs": [],
   "source": [
    "arr3"
   ]
  },
  {
   "cell_type": "code",
   "execution_count": null,
   "id": "dcf0b314",
   "metadata": {},
   "outputs": [],
   "source": [
    "# 3D array Indexing \n",
    "\n",
    "print(arr3[0][0][0])\n",
    "print(arr3[1][3][2])\n",
    "print(arr3[-1][-2][-1])\n",
    "\n",
    "\n",
    "\n",
    "# Another way of accessing element in 3D array\n",
    "print(arr3[0,0,0])\n",
    "print(arr3[-1,2,0])\n",
    "print(arr3[-1,0,-2])"
   ]
  },
  {
   "cell_type": "markdown",
   "id": "72dd7184",
   "metadata": {},
   "source": [
    "## Slicing in numpy array"
   ]
  },
  {
   "cell_type": "code",
   "execution_count": null,
   "id": "006b4f2c",
   "metadata": {},
   "outputs": [],
   "source": [
    "arr1"
   ]
  },
  {
   "cell_type": "code",
   "execution_count": null,
   "id": "bbb7ef3a",
   "metadata": {},
   "outputs": [],
   "source": [
    "# Slicing in 1D array (same as python list slicing).\n",
    "print(arr1[::])\n",
    "print(arr1[::-1])\n",
    "print(arr1[2::2])"
   ]
  },
  {
   "cell_type": "code",
   "execution_count": null,
   "id": "7a722701",
   "metadata": {},
   "outputs": [],
   "source": [
    "arr2"
   ]
  },
  {
   "cell_type": "code",
   "execution_count": null,
   "id": "fdecb5a3",
   "metadata": {},
   "outputs": [],
   "source": [
    "# Slicing in 2D array\n",
    "\n",
    "print(arr2[0,:])\n",
    "print()\n",
    "print(arr2[:,0])\n",
    "print()\n",
    "print(arr2[1:,1:])\n",
    "print()\n",
    "print(arr2[::2,:2:])"
   ]
  },
  {
   "cell_type": "code",
   "execution_count": null,
   "id": "885f0391",
   "metadata": {},
   "outputs": [],
   "source": [
    "arr3"
   ]
  },
  {
   "cell_type": "code",
   "execution_count": null,
   "id": "7d20097b",
   "metadata": {},
   "outputs": [],
   "source": [
    "# Slicing in 3D array\n",
    "print(arr3[0],end='\\n\\n')\n",
    "print(arr3[0,0],end='\\n\\n')\n",
    "print(arr3[1,:3],end='\\n\\n')\n",
    "print(arr3[0,:2,::2])"
   ]
  },
  {
   "cell_type": "markdown",
   "id": "559974d9",
   "metadata": {},
   "source": [
    "<font size=7> NumPy Data Types"
   ]
  },
  {
   "cell_type": "markdown",
   "id": "97ad52d5",
   "metadata": {},
   "source": [
    "<font size=5> ***Data Types in NumPy***"
   ]
  },
  {
   "cell_type": "markdown",
   "id": "e470b0c9",
   "metadata": {},
   "source": [
    "<font size=4>The NumPy array object has a property called dtype that returns the data type of the array:"
   ]
  },
  {
   "cell_type": "code",
   "execution_count": null,
   "id": "5f7d39c0",
   "metadata": {},
   "outputs": [],
   "source": [
    "arr = np.array([1, 2, 3, 4])\n",
    "print(arr.dtype)"
   ]
  },
  {
   "cell_type": "code",
   "execution_count": null,
   "id": "8b109ec4",
   "metadata": {},
   "outputs": [],
   "source": [
    "arr = np.array([1.0, 2.0, 3.34, 4.534])\n",
    "print(arr.dtype)"
   ]
  },
  {
   "cell_type": "code",
   "execution_count": null,
   "id": "7f79b03d",
   "metadata": {},
   "outputs": [],
   "source": [
    "arr = np.array(['apple', 'banana', 'cherry'])\n",
    "print(arr.dtype)"
   ]
  },
  {
   "cell_type": "markdown",
   "id": "c7fe98b7",
   "metadata": {},
   "source": [
    "<font size=5> ***Converting Data Type on Existing Arrays***"
   ]
  },
  {
   "cell_type": "markdown",
   "id": "a1aa1597",
   "metadata": {},
   "source": [
    "<font size=4>- The best way to change the data type of an existing array, is to make a copy of the array with the **astype()** method.\n",
    "\n",
    "<font size=4>- The **astype()** function creates a copy of the array, and allows you to specify the data type as a parameter.\n",
    "\n",
    "<font size=4>-The data type can be specified using a string, like **'f'** for float, **'i'** for integer etc. or you can use the data type directly like float for float and int for integer."
   ]
  },
  {
   "cell_type": "code",
   "execution_count": null,
   "id": "ccc9bc51",
   "metadata": {},
   "outputs": [],
   "source": [
    "arr = np.array([1.1, 2.1, 3.1])\n",
    "newarr = arr.astype('i')\n",
    "print(newarr)\n",
    "print(newarr.dtype)"
   ]
  },
  {
   "cell_type": "code",
   "execution_count": null,
   "id": "9a6b95d5",
   "metadata": {},
   "outputs": [],
   "source": [
    "arr = np.array([1.1, 2.1, 3.1])\n",
    "newarr = arr.astype(int)\n",
    "print(newarr)\n",
    "print(newarr.dtype)"
   ]
  },
  {
   "cell_type": "code",
   "execution_count": null,
   "id": "a8165f64",
   "metadata": {},
   "outputs": [],
   "source": [
    "arr = np.array([1, 0, 3])\n",
    "newarr = arr.astype(bool)\n",
    "print(newarr)\n",
    "print(newarr.dtype)"
   ]
  },
  {
   "cell_type": "markdown",
   "id": "9c233a4a",
   "metadata": {},
   "source": [
    "<font size=6> *NumPy Array Attributes*"
   ]
  },
  {
   "cell_type": "markdown",
   "id": "c9dd9151",
   "metadata": {},
   "source": [
    "<font size=4>-A numpy array has several attributes that indicate the element type,element size,shape of arrays,size of arrays,etc\n",
    "    \n",
    "<font size=4>-We can obtain the types of element present in a numpy array their aizes,their location in,memory etc.\n",
    "    \n",
    "<font size=4>-Attributes of arrays determine the size ,shape,memory,and data types of array"
   ]
  },
  {
   "cell_type": "code",
   "execution_count": null,
   "id": "cd00bc7f",
   "metadata": {},
   "outputs": [],
   "source": [
    "a1=np.array([1,2,3,4])\n",
    "a2=np.array([1.1,2.2,3.3,4.4])\n",
    "\n",
    "# Here \"dtypes\" specifies the type of element contained in the array\n",
    "print(a1.dtype)\n",
    "print(a2.dtype)\n",
    "\n",
    "# Number of bytes occupied by individual array element are available through \"itemsize\"\n",
    "print(a1.itemsize)\n",
    "print(a2.itemsize)\n",
    "\n",
    "# Number of bytes occupied by entire are available through \"itemsize\"\n",
    "print(a1.nbytes)\n",
    "print(a2.nbytes)\n",
    "\n"
   ]
  },
  {
   "cell_type": "code",
   "execution_count": null,
   "id": "5dc58fad",
   "metadata": {},
   "outputs": [],
   "source": [
    "# Attributes \"ndim\",\"shape\",and \"size\" yield the number of dimensions in the array the shape of the array and the number of element in it\n",
    "\n",
    "a1=np.array([1,2,3,4])\n",
    "a2=np.array([[1,2,3,4],[5,6,7,8]])\n",
    "\n",
    "# ndim\n",
    "print(a1.ndim)\n",
    "print(a2.ndim)\n",
    "\n",
    "# shape\n",
    "print(a1.shape)\n",
    "print(a2.shape)\n",
    "\n",
    "# size\n",
    "print(a1.size)\n",
    "print(a2.size)"
   ]
  },
  {
   "cell_type": "markdown",
   "id": "5a283a39",
   "metadata": {},
   "source": [
    "<font size=6> *Numpy Array Functions*"
   ]
  },
  {
   "cell_type": "markdown",
   "id": "d3b696af",
   "metadata": {},
   "source": [
    "<font size=5> ***Zeroes***"
   ]
  },
  {
   "cell_type": "code",
   "execution_count": null,
   "id": "788be173",
   "metadata": {},
   "outputs": [],
   "source": [
    "# zeros create arrays of 0s\n",
    "print(np.zeros(10))\n",
    "print()\n",
    "print(np.zeros((3,6)))\n",
    "print()\n",
    "print(np.zeros((2,3,2))) #here 2 is representing total numer of array and 3 is represting number of rows and 2 is represting number of columns"
   ]
  },
  {
   "cell_type": "markdown",
   "id": "415fe4f0",
   "metadata": {},
   "source": [
    "<font size=5> ***Ones***"
   ]
  },
  {
   "cell_type": "code",
   "execution_count": null,
   "id": "372d7722",
   "metadata": {},
   "outputs": [],
   "source": [
    "# Ones create arrays of 1s\n",
    "print(np.ones(10))\n",
    "print()\n",
    "print(np.ones((3,6)))\n",
    "print()\n",
    "print(np.ones((2,3,2)))"
   ]
  },
  {
   "cell_type": "markdown",
   "id": "411b6f5b",
   "metadata": {},
   "source": [
    "<font size=5> ***identity() function***"
   ]
  },
  {
   "cell_type": "markdown",
   "id": "d50a8a44",
   "metadata": {},
   "source": [
    "<font size=4>identity matrix is a square matrix in which all the element of the main diagonal are equal to **1** and all othere element are equal to **0**. the **identity ()** function return the identity array.The **identity()** ***function*** from **numpy** library is used to return the identity matrix."
   ]
  },
  {
   "cell_type": "markdown",
   "id": "e2d50d73",
   "metadata": {},
   "source": [
    "<font size=5>Syntax\n",
    "    \n",
    "<font size=4>identity(n, dtype=float, like=None)"
   ]
  },
  {
   "cell_type": "markdown",
   "id": "b2130f3e",
   "metadata": {},
   "source": [
    "<font size=5>*Parameter value*\n",
    "\n",
    "<font size=4>The **identity() function** takes the following parameter values:\n",
    "\n",
    "<font size=4>**n**: This represents the number of rows in the output.\n",
    "    \n",
    "<font size=4>**dtype**: This represents the data type of the output matrix. This is optional and its default type is float.\n",
    "\n",
    "<font size=4>**like**: This represents the matrix-like object or the prototype."
   ]
  },
  {
   "cell_type": "code",
   "execution_count": null,
   "id": "7754786a",
   "metadata": {},
   "outputs": [],
   "source": [
    "np.identity(2)#default data as float"
   ]
  },
  {
   "cell_type": "code",
   "execution_count": null,
   "id": "7ba2e0aa",
   "metadata": {},
   "outputs": [],
   "source": [
    "np.identity(3,dtype=int)"
   ]
  },
  {
   "cell_type": "code",
   "execution_count": null,
   "id": "4fadab86",
   "metadata": {},
   "outputs": [],
   "source": [
    "np.identity(2,3)"
   ]
  },
  {
   "cell_type": "markdown",
   "id": "c57b9e94",
   "metadata": {},
   "source": [
    "<font size=5> ***numpy.full()***"
   ]
  },
  {
   "cell_type": "markdown",
   "id": "c874abe6",
   "metadata": {},
   "source": [
    "<font size=4>The **numpy.full()** function is used to create a new array of the seprate filled with a specified valueThe **numpy.full()** function is used to return a new array of a given shape and data type filled with fill_value."
   ]
  },
  {
   "cell_type": "markdown",
   "id": "e1b0b14e",
   "metadata": {},
   "source": [
    "<font size=5>*Syntax*\n",
    "    \n",
    "<font size=4>numpy.full(shape, fill_value, dtype=None, like=None)"
   ]
  },
  {
   "cell_type": "markdown",
   "id": "e8543dfe",
   "metadata": {},
   "source": [
    "<font size=5>*Parameters*\n",
    "    \n",
    "<font size=4>The **numpy.full()** function takes the following parameter values:\n",
    "\n",
    "<font size=4>-**shape**: This represents the shape of the desired array.\n",
    "    \n",
    "<font size=4>-**fill_value**: This represents the fill value.\n",
    "\n",
    "<font size=4>-**dtype**: This represents the data type of the desired array. This is an optional parameter.\n",
    "\n",
    "<font size=4>-**like**: This represents the prototype or the array_like object."
   ]
  },
  {
   "cell_type": "code",
   "execution_count": 1,
   "id": "c2d5d592",
   "metadata": {},
   "outputs": [],
   "source": [
    "import numpy as np "
   ]
  },
  {
   "cell_type": "code",
   "execution_count": 2,
   "id": "99a52ac2",
   "metadata": {},
   "outputs": [
    {
     "data": {
      "text/plain": [
       "array([12, 12, 12])"
      ]
     },
     "execution_count": 2,
     "metadata": {},
     "output_type": "execute_result"
    }
   ],
   "source": [
    "np.full(3,12)"
   ]
  },
  {
   "cell_type": "code",
   "execution_count": 3,
   "id": "5e879ea2",
   "metadata": {},
   "outputs": [
    {
     "data": {
      "text/plain": [
       "array([[3, 3],\n",
       "       [3, 3]])"
      ]
     },
     "execution_count": 3,
     "metadata": {},
     "output_type": "execute_result"
    }
   ],
   "source": [
    "np.full([2,2],3)"
   ]
  },
  {
   "cell_type": "code",
   "execution_count": null,
   "id": "d4b52c50",
   "metadata": {},
   "outputs": [],
   "source": [
    "np.full((3,4),3)"
   ]
  },
  {
   "cell_type": "code",
   "execution_count": null,
   "id": "c710e3dc",
   "metadata": {},
   "outputs": [],
   "source": [
    "np.full((3,3),55,dtype=float)"
   ]
  },
  {
   "cell_type": "markdown",
   "id": "f5ed564f",
   "metadata": {},
   "source": [
    "<font size=6> *Arithmetic operations with numpy array*"
   ]
  },
  {
   "cell_type": "markdown",
   "id": "f872f3fd",
   "metadata": {},
   "source": [
    "<font size=4>You could use arithmetic operators \"**+ - * /**\" directly between NumPy arrays"
   ]
  },
  {
   "cell_type": "markdown",
   "id": "c486dd30",
   "metadata": {},
   "source": [
    "<font size=5>***List of Arithmetic Operations***"
   ]
  },
  {
   "cell_type": "markdown",
   "id": "8df52239",
   "metadata": {},
   "source": [
    "\n",
    "<img src=\"https://encrypted-tbn0.gstatic.com/images?q=tbn:ANd9GcTAJMDiUk9yiwoqQ_faxvX9AJ9_ulmQ3AbRrw&s\"\n",
    "     width=\"600\"/>"
   ]
  },
  {
   "cell_type": "markdown",
   "id": "6ebe569f",
   "metadata": {},
   "source": [
    "### Arithmetic operations on 1D Array "
   ]
  },
  {
   "cell_type": "code",
   "execution_count": null,
   "id": "734e2cba",
   "metadata": {},
   "outputs": [],
   "source": [
    "a1 = np.array([1, 3, 5, 7])\n",
    "b1 = np.array([2, 4, 6, 8])\n",
    "print(a1)\n",
    "print(b1)"
   ]
  },
  {
   "cell_type": "markdown",
   "id": "b74771ba",
   "metadata": {},
   "source": [
    "### 1. Scalar operations:"
   ]
  },
  {
   "cell_type": "code",
   "execution_count": null,
   "id": "14c24a71",
   "metadata": {},
   "outputs": [],
   "source": [
    "# All Scalar operation on 1D array using operators :\n",
    "print(a1+5)\n",
    "print(a1-5)\n",
    "print(a1*2)\n",
    "print(a1/2)\n",
    "print(a1//2)\n",
    "print(-a1)\n",
    "print(a1**2)\n",
    "print(a1%2)"
   ]
  },
  {
   "cell_type": "code",
   "execution_count": null,
   "id": "6e5628ad",
   "metadata": {},
   "outputs": [],
   "source": [
    "# All Scalar operation on 1D array using there built in functions :\n",
    "print(np.add(a1,5))\n",
    "print(np.subtract(a1,5))\n",
    "print(np.multiply(a1,2))\n",
    "print(np.divide(a1,2))\n",
    "print(np.floor_divide(a1,2))\n",
    "print(np.negative(a1))\n",
    "print(np.power(a1,3))\n",
    "print(np.mod(a1,2))"
   ]
  },
  {
   "cell_type": "markdown",
   "id": "4d189d77",
   "metadata": {},
   "source": [
    "### 2. Vector Operations:"
   ]
  },
  {
   "cell_type": "code",
   "execution_count": null,
   "id": "39439268",
   "metadata": {},
   "outputs": [],
   "source": [
    "# All Vector operations on 1D array using operators :\n",
    "print(a1+b1)\n",
    "print(a1-b1)\n",
    "print(a1*b1)\n",
    "print(a1/b1)\n",
    "print(a1//b1)\n",
    "print(a1**b1)\n",
    "print(a1%b1)"
   ]
  },
  {
   "cell_type": "code",
   "execution_count": null,
   "id": "0198b519",
   "metadata": {},
   "outputs": [],
   "source": [
    "# All Vector operations on 1D array using there built in functions :\n",
    "print(np.add(a1,b1))\n",
    "print(np.subtract(a1,b1))\n",
    "print(np.multiply(a1,b1))\n",
    "print(np.divide(a1,b1))\n",
    "print(np.floor_divide(a1,b1))\n",
    "print(np.power(a1,b1))\n",
    "print(np.mod(a1,b1))"
   ]
  },
  {
   "cell_type": "markdown",
   "id": "3dfdf2bd",
   "metadata": {},
   "source": [
    "### Arithmetic operations on 2D array"
   ]
  },
  {
   "cell_type": "code",
   "execution_count": null,
   "id": "7abd2b22",
   "metadata": {},
   "outputs": [],
   "source": [
    "a2 = np.arange(12).reshape(3,4)\n",
    "b2 = np.arange(12,24).reshape(3,4)\n",
    "print(a2)\n",
    "print()\n",
    "print(b2)"
   ]
  },
  {
   "cell_type": "code",
   "execution_count": null,
   "id": "4bd5a86a",
   "metadata": {},
   "outputs": [],
   "source": [
    "# All Scalar operation on 2D array using operators :\n",
    "print(a2+5,end='\\n\\n')\n",
    "print(a2-5,end='\\n\\n')\n",
    "print(a2*2,end='\\n\\n')\n",
    "print(a2/2)"
   ]
  },
  {
   "cell_type": "code",
   "execution_count": null,
   "id": "d5521cd2",
   "metadata": {},
   "outputs": [],
   "source": [
    "# Other Operations:\n",
    "\n",
    "print(a2//2,end='\\n\\n')\n",
    "print(-a2,end='\\n\\n')\n",
    "print(a2**2,end='\\n\\n')\n",
    "print(a2%2)"
   ]
  },
  {
   "cell_type": "code",
   "execution_count": null,
   "id": "ea26e8a6",
   "metadata": {},
   "outputs": [],
   "source": [
    "# All Scalar operation on 2D array using there built in functions :\n",
    "print(np.add(a2,5),end='\\n\\n')\n",
    "print(np.subtract(a2,5),end='\\n\\n')\n",
    "print(np.multiply(a2,2),end='\\n\\n')\n",
    "print(np.divide(a2,2))"
   ]
  },
  {
   "cell_type": "code",
   "execution_count": null,
   "id": "4ef98b5f",
   "metadata": {},
   "outputs": [],
   "source": [
    "# Other Operations:\n",
    "\n",
    "print(np.floor_divide(a2,2),end='\\n\\n')\n",
    "print(np.negative(a2),end='\\n\\n')\n",
    "print(np.power(a2,3),end='\\n\\n')\n",
    "print(np.mod(a2,2))"
   ]
  },
  {
   "cell_type": "code",
   "execution_count": null,
   "id": "c0e6dc5d",
   "metadata": {},
   "outputs": [],
   "source": [
    "# All Vector operations on 2D array using operators :\n",
    "print(a2+b2,end='\\n\\n')\n",
    "print(a2-b2,end='\\n\\n')\n",
    "print(a2*b2,end='\\n\\n')\n",
    "print(a2/b2)"
   ]
  },
  {
   "cell_type": "code",
   "execution_count": null,
   "id": "da7fc61b",
   "metadata": {},
   "outputs": [],
   "source": [
    "# Other operations:\n",
    "\n",
    "print(a2//b2,end='\\n\\n')\n",
    "print(a2**b2,end='\\n\\n')\n",
    "print(a2%b2)"
   ]
  },
  {
   "cell_type": "code",
   "execution_count": null,
   "id": "4faa862f",
   "metadata": {},
   "outputs": [],
   "source": [
    "# All Vector operations on 1D array using there built in functions :\n",
    "print(np.add(a2,b2),end='\\n\\n')\n",
    "print(np.subtract(a2,b2),end='\\n\\n')\n",
    "print(np.multiply(a2,b2),end='\\n\\n')\n",
    "print(np.divide(a2,b2))"
   ]
  },
  {
   "cell_type": "code",
   "execution_count": 121,
   "id": "f4b6aa5c",
   "metadata": {},
   "outputs": [],
   "source": [
    "x=np.arange(4)"
   ]
  },
  {
   "cell_type": "code",
   "execution_count": null,
   "id": "e6bf85c3",
   "metadata": {},
   "outputs": [],
   "source": [
    "print('x=',x)\n",
    "print('x+5=',x+5)\n",
    "print('x-5=',x-5)\n",
    "print('x*2=',x*2)\n",
    "print('x/2=',x/2)\n",
    "print('x//2=',x//2)\n",
    "print('-x=',-x)\n",
    "print('x**2=',x**2)\n",
    "print('x%2=',x%2)"
   ]
  },
  {
   "cell_type": "code",
   "execution_count": null,
   "id": "7a6a2145",
   "metadata": {},
   "outputs": [],
   "source": [
    "#airthmatic function\n",
    "print('x=',x)\n",
    "print(np.add(x,5))\n",
    "print(np.subtract(x,5))\n",
    "print(np.multiply(x,2))\n",
    "print(np.divide(x,2))\n",
    "print(np.floor_divide(x,2))\n",
    "print(np.negative(x))\n",
    "print(np.power(x,3))\n",
    "print(np.mod(x,2))"
   ]
  },
  {
   "cell_type": "markdown",
   "id": "faceaa31",
   "metadata": {},
   "source": [
    "## Dot Product"
   ]
  },
  {
   "cell_type": "code",
   "execution_count": null,
   "id": "a757b9a1",
   "metadata": {},
   "outputs": [],
   "source": [
    "# 1D array, \n",
    "arr1 = np.array([9, 10, 20])\n",
    "arr2 = np.array([2, 5, 7])\n",
    "\n",
    "np.dot(arr1,arr2)"
   ]
  },
  {
   "cell_type": "code",
   "execution_count": null,
   "id": "b3825dec",
   "metadata": {},
   "outputs": [],
   "source": [
    "# 2D array,\n",
    "arr1 = np.arange(12).reshape(3,4)\n",
    "arr2 = np.arange(12).reshape(4,3)\n",
    "\n",
    "np.dot(arr1,arr2)"
   ]
  },
  {
   "cell_type": "markdown",
   "id": "965ac656",
   "metadata": {},
   "source": [
    "<font size=6> *Statistical operations with numpy array*"
   ]
  },
  {
   "cell_type": "markdown",
   "id": "e76218f2",
   "metadata": {},
   "source": [
    "<font size=4>Statistics involves gathering data, analyzing it, and drawing conclusions based on the information collected.\n",
    "NumPy provides us with various statistical functions that can perform statistical data analysis.\n",
    "\n"
   ]
  },
  {
   "cell_type": "markdown",
   "id": "3e605d08",
   "metadata": {},
   "source": [
    "![](https://miro.medium.com/v2/resize:fit:931/1*tA-rwKcxh41ZQVwuI17fTA.png)"
   ]
  },
  {
   "cell_type": "code",
   "execution_count": null,
   "id": "9a5e2c0e",
   "metadata": {},
   "outputs": [],
   "source": [
    "x=np.arange(50).reshape(10,5)\n",
    "x"
   ]
  },
  {
   "cell_type": "code",
   "execution_count": null,
   "id": "93e0207f",
   "metadata": {},
   "outputs": [],
   "source": [
    "np.mean(x)"
   ]
  },
  {
   "cell_type": "code",
   "execution_count": null,
   "id": "2fb2bc05",
   "metadata": {},
   "outputs": [],
   "source": [
    "np.mean(x,axis=0) # Mean of individual columns."
   ]
  },
  {
   "cell_type": "code",
   "execution_count": null,
   "id": "478822f4",
   "metadata": {},
   "outputs": [],
   "source": [
    "np.mean(x,axis=1) # Mean of individual rows."
   ]
  },
  {
   "cell_type": "code",
   "execution_count": null,
   "id": "5efd4b5b",
   "metadata": {},
   "outputs": [],
   "source": [
    "# To find mean, we can apply average function also.\n",
    "np.average(x)"
   ]
  },
  {
   "cell_type": "code",
   "execution_count": null,
   "id": "1fb9da73",
   "metadata": {},
   "outputs": [],
   "source": [
    "np.min(x)"
   ]
  },
  {
   "cell_type": "code",
   "execution_count": null,
   "id": "c600d8d3",
   "metadata": {},
   "outputs": [],
   "source": [
    "np.max(x)"
   ]
  },
  {
   "cell_type": "code",
   "execution_count": null,
   "id": "742ac154",
   "metadata": {},
   "outputs": [],
   "source": [
    "np.min(x,axis=0) # Gives min value of every column in a array"
   ]
  },
  {
   "cell_type": "code",
   "execution_count": null,
   "id": "860ed785",
   "metadata": {},
   "outputs": [],
   "source": [
    "np.min(x,axis=1) # Gives min value of every row in a array"
   ]
  },
  {
   "cell_type": "code",
   "execution_count": null,
   "id": "16b301b3",
   "metadata": {},
   "outputs": [],
   "source": [
    "np.max(x,axis=0) # Gives max value of every column in a array"
   ]
  },
  {
   "cell_type": "code",
   "execution_count": null,
   "id": "dddc889b",
   "metadata": {},
   "outputs": [],
   "source": [
    "np.max(x,axis=1) # Gives max value of every row in a array"
   ]
  },
  {
   "cell_type": "code",
   "execution_count": null,
   "id": "05372f13",
   "metadata": {},
   "outputs": [],
   "source": [
    "np.var(x) # The function np.var() in NumPy calculates the variance of the array elements"
   ]
  },
  {
   "cell_type": "code",
   "execution_count": null,
   "id": "a991af7b",
   "metadata": {},
   "outputs": [],
   "source": [
    "np.var(x,axis=0) # Calculates the variance of the array elements in columns "
   ]
  },
  {
   "cell_type": "code",
   "execution_count": null,
   "id": "47919cbd",
   "metadata": {},
   "outputs": [],
   "source": [
    "np.var(x,axis=1) # Calculates the variance of the array elements in rows "
   ]
  },
  {
   "cell_type": "code",
   "execution_count": null,
   "id": "39afd8ad",
   "metadata": {},
   "outputs": [],
   "source": [
    "np.sum(x) # calculates the sum of the array elements  "
   ]
  },
  {
   "cell_type": "code",
   "execution_count": null,
   "id": "549dee2c",
   "metadata": {},
   "outputs": [],
   "source": [
    "np.sum(x,axis=0) # calculates the sum of the array elements in columns "
   ]
  },
  {
   "cell_type": "code",
   "execution_count": null,
   "id": "a9a4768d",
   "metadata": {},
   "outputs": [],
   "source": [
    "np.sum(x,axis=1)#calculates the sum of the array elements in rows "
   ]
  },
  {
   "cell_type": "markdown",
   "id": "7901d6b2",
   "metadata": {},
   "source": [
    "<font size=4>A percentile is a measure used in statistics to express the relative standing of a value within a dataset. It indicates the value below which a given percentage of observations fall. For example, the 25th percentile (also known as the first quartile) is the value below which 25% of the data falls."
   ]
  },
  {
   "cell_type": "code",
   "execution_count": null,
   "id": "70fc383e",
   "metadata": {},
   "outputs": [],
   "source": [
    "p25=np.percentile(x,25)\n",
    "p50=np.percentile(x,50)\n",
    "p75=np.percentile(x,75)\n",
    "p100=np.percentile(x,100)\n",
    "print()\n",
    "print(\"25th Percentile:\",p25)\n",
    "print(\"50th Percentile:\",p50)\n",
    "print(\"75th Percentile:\",p75)\n",
    "print(\"100th Percentile:\",p100)"
   ]
  },
  {
   "cell_type": "markdown",
   "id": "519b44ce",
   "metadata": {},
   "source": [
    "## Iterating through an array"
   ]
  },
  {
   "cell_type": "code",
   "execution_count": null,
   "id": "5e73fcec",
   "metadata": {},
   "outputs": [],
   "source": [
    "# 1D array\n",
    "a1 = np.array([2,4,5,7,8,4,1,5,6])\n",
    "for i in a1:\n",
    "    print(i)"
   ]
  },
  {
   "cell_type": "code",
   "execution_count": null,
   "id": "f1be8ee3",
   "metadata": {},
   "outputs": [],
   "source": [
    "# 2D array\n",
    "a2 = np.arange(20).reshape(4,5)\n",
    "for i in a2:\n",
    "    print(i,end='\\n\\n')"
   ]
  },
  {
   "cell_type": "code",
   "execution_count": null,
   "id": "12a8b773",
   "metadata": {},
   "outputs": [],
   "source": [
    "# 3D array \n",
    "a3 = np.arange(20).reshape(5,2,2)\n",
    "for i in a3:\n",
    "    print(i,end='\\n\\n')"
   ]
  },
  {
   "cell_type": "code",
   "execution_count": null,
   "id": "7e0ecdbb",
   "metadata": {},
   "outputs": [],
   "source": [
    "# np.nditer function\n",
    "for i in np.nditer(a3):\n",
    "    print(i)"
   ]
  },
  {
   "cell_type": "markdown",
   "id": "521c9d4a",
   "metadata": {},
   "source": [
    "### Some Other reshaping functions."
   ]
  },
  {
   "cell_type": "code",
   "execution_count": null,
   "id": "b0ddbe5b",
   "metadata": {},
   "outputs": [],
   "source": [
    "# transpose() -> Convert row to column and column to row.\n",
    "\n",
    "arr2 = np.arange(12).reshape(4,3) # 2D array.\n",
    "print(arr2)\n",
    "print(\"Shape of array :\",arr2.shape,end='\\n\\n')\n",
    "\n",
    "arr2 = np.transpose(arr2)\n",
    "# arr2_new = arr2.T # Another way of transposing the array\n",
    "print(arr2)\n",
    "print(\"Shape of new array after transpose :\",arr2.shape)"
   ]
  },
  {
   "cell_type": "code",
   "execution_count": null,
   "id": "06f65557",
   "metadata": {},
   "outputs": [],
   "source": [
    "# ravel() -> Convert n dimension array into 1D array.\n",
    "\n",
    "arr2 = np.arange(12).reshape(4,3) # 2D array.\n",
    "print(arr2)\n",
    "print(\"Shape of array :\",arr2.shape)\n",
    "print(\"Number of dimensions :\",arr2.ndim,end='\\n\\n')\n",
    "\n",
    "arr2 = np.ravel(arr2)\n",
    "print(arr2)\n",
    "print(\"Shape of new array after reval() :\",arr2.shape)\n",
    "print(\"Number of dimensions after ravel() :\",arr2.ndim)"
   ]
  },
  {
   "cell_type": "markdown",
   "id": "61bc9799",
   "metadata": {},
   "source": [
    "## Stacking of numpy array."
   ]
  },
  {
   "cell_type": "code",
   "execution_count": 181,
   "id": "b2387732",
   "metadata": {},
   "outputs": [],
   "source": [
    "s1 = np.arange(12).reshape(3,4)\n",
    "s2 = np.arange(12,24).reshape(3,4)"
   ]
  },
  {
   "cell_type": "code",
   "execution_count": null,
   "id": "8c99f2c0",
   "metadata": {},
   "outputs": [],
   "source": [
    "s1"
   ]
  },
  {
   "cell_type": "code",
   "execution_count": null,
   "id": "2e88c3d0",
   "metadata": {},
   "outputs": [],
   "source": [
    "# horizontal stacking\n",
    "s3 = np.hstack((s1,s2))\n",
    "s3"
   ]
  },
  {
   "cell_type": "code",
   "execution_count": null,
   "id": "2fe4a7fb",
   "metadata": {},
   "outputs": [],
   "source": [
    "# vertical stacking\n",
    "s4 = np.vstack((s1,s2))\n",
    "s4"
   ]
  },
  {
   "cell_type": "markdown",
   "id": "2254eef9",
   "metadata": {},
   "source": [
    "## Spliting of numpy array."
   ]
  },
  {
   "cell_type": "code",
   "execution_count": null,
   "id": "86c64f75",
   "metadata": {},
   "outputs": [],
   "source": [
    "# Horizontal Spliting:\n",
    "np.hsplit(s3,2)"
   ]
  },
  {
   "cell_type": "code",
   "execution_count": null,
   "id": "86bfa917",
   "metadata": {},
   "outputs": [],
   "source": [
    "a,b = np.hsplit(s3,2)\n",
    "print(a,end='\\n\\n')\n",
    "print(b)"
   ]
  },
  {
   "cell_type": "code",
   "execution_count": null,
   "id": "e96e98e1",
   "metadata": {},
   "outputs": [],
   "source": [
    "# Vertical Spliting\n",
    "np.vsplit(s4,2)"
   ]
  },
  {
   "cell_type": "code",
   "execution_count": null,
   "id": "0e3b0033",
   "metadata": {},
   "outputs": [],
   "source": [
    "c,d = np.vsplit(s4,2)\n",
    "print(c,end='\\n\\n')\n",
    "print(d)"
   ]
  },
  {
   "cell_type": "code",
   "execution_count": null,
   "id": "b7338b4f",
   "metadata": {},
   "outputs": [],
   "source": [
    "# Unequal dividion results in error\n",
    "np.hsplit(s4,3)"
   ]
  }
 ],
 "metadata": {
  "kernelspec": {
   "display_name": "Python 3",
   "language": "python",
   "name": "python3"
  },
  "language_info": {
   "codemirror_mode": {
    "name": "ipython",
    "version": 3
   },
   "file_extension": ".py",
   "mimetype": "text/x-python",
   "name": "python",
   "nbconvert_exporter": "python",
   "pygments_lexer": "ipython3",
   "version": "3.12.4"
  }
 },
 "nbformat": 4,
 "nbformat_minor": 5
}
