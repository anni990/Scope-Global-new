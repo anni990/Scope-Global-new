{
 "cells": [
  {
   "cell_type": "code",
   "execution_count": null,
   "metadata": {},
   "outputs": [],
   "source": [
    "! pip install opencv-python"
   ]
  },
  {
   "cell_type": "code",
   "execution_count": null,
   "metadata": {},
   "outputs": [],
   "source": [
    "! pip install mediapipe "
   ]
  },
  {
   "cell_type": "code",
   "execution_count": 7,
   "metadata": {},
   "outputs": [],
   "source": [
    "import cv2\n",
    "import mediapipe as mp\n",
    "import numpy as np \n",
    "mphand=mp.solutions.hands\n",
    "hands=mphand.Hands()\n",
    "\n",
    "mpDraw=mp.solutions.drawing_utils\n",
    "\n",
    "cap=cv2.VideoCapture(0)\n",
    "while True:\n",
    "        ret, frame = cap.read()\n",
    "        # x, y, c = frame.shape\n",
    "\n",
    "        # # Image ko RGB format mein convert karna\n",
    "        # frame_rgb = cv2.cvtColor(frame, cv2.COLOR_BGR2RGB)\n",
    "\n",
    "        # # Hand landmarks ko detect karna\n",
    "        # results = hands.process(frame_rgb)\n",
    "\n",
    "        # if results.multi_hand_landmarks:\n",
    "        #     for hand_landmarks in results.multi_hand_landmarks:\n",
    "        #         # Haath ke landmarks ko draw karna\n",
    "        #         for idx, landmark in enumerate(hand_landmarks.landmark):\n",
    "        #             cx, cy = int(landmark.x * frame.shape[1]), int(landmark.y * frame.shape[0])\n",
    "        #             cv2.circle(frame, (cx, cy), 5, (255, 0, 0), -1)\n",
    "\n",
    "        #         # Landmarks ko connect karne ke liye\n",
    "        #         mp_drawing = mp.solutions.drawing_utils\n",
    "        #         mp_drawing.draw_landmarks(frame, hand_landmarks, mphand.HAND_CONNECTIONS)\n",
    "\n",
    "        # Frame ko display karna\n",
    "        cv2.imshow('Hand Landmarks', frame)\n",
    "\n",
    "        # 'q' press karke loop se bahar nikalna\n",
    "        if cv2.waitKey(1) & 0xFF == ord('q'):\n",
    "            break\n",
    "\n",
    "    # Resources release karna\n",
    "cap.release()\n",
    "cv2.destroyAllWindows()"
   ]
  }
 ],
 "metadata": {
  "kernelspec": {
   "display_name": "Python 3",
   "language": "python",
   "name": "python3"
  },
  "language_info": {
   "codemirror_mode": {
    "name": "ipython",
    "version": 3
   },
   "file_extension": ".py",
   "mimetype": "text/x-python",
   "name": "python",
   "nbconvert_exporter": "python",
   "pygments_lexer": "ipython3",
   "version": "3.12.6"
  }
 },
 "nbformat": 4,
 "nbformat_minor": 2
}
